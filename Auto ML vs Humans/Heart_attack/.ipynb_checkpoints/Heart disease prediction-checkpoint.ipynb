{
 "cells": [
  {
   "cell_type": "markdown",
   "id": "631002ff",
   "metadata": {},
   "source": [
    "## Auto ML VS One busy data scientist \n",
    "The idea of this project is to go through a very basic ML project to show the ease and convininece of AutoML."
   ]
  },
  {
   "cell_type": "markdown",
   "id": "42bf3c58",
   "metadata": {},
   "source": [
    "First we go through the manual ML flow. We won't be going in too fancy or complex but we will do what we can to give the manual process a good chance against AutoML with pre processing and trying different models.\n",
    "\n",
    "As per tradition my data science sensei has told me to know your data before you get to the fight so here we go... \n",
    "It's EDA time"
   ]
  },
  {
   "cell_type": "code",
   "execution_count": 171,
   "id": "dae97973",
   "metadata": {},
   "outputs": [],
   "source": [
    "import pandas as pd\n",
    "import numpy as np\n",
    "import matplotlib.pyplot as plt \n",
    "import seaborn as sns\n",
    "%matplotlib inline"
   ]
  },
  {
   "cell_type": "code",
   "execution_count": 172,
   "id": "bc04dc2b",
   "metadata": {},
   "outputs": [],
   "source": [
    "df = pd.read_csv('/home/thayyeb/Desktop/Project/Heart_attack/heart.csv')"
   ]
  },
  {
   "cell_type": "code",
   "execution_count": 173,
   "id": "a003534f",
   "metadata": {},
   "outputs": [
    {
     "data": {
      "text/plain": [
       "Index(['age', 'sex', 'cp', 'trtbps', 'chol', 'fbs', 'restecg', 'thalachh',\n",
       "       'exng', 'oldpeak', 'slp', 'caa', 'thall', 'output'],\n",
       "      dtype='object')"
      ]
     },
     "execution_count": 173,
     "metadata": {},
     "output_type": "execute_result"
    }
   ],
   "source": [
    "df.columns"
   ]
  },
  {
   "cell_type": "code",
   "execution_count": 174,
   "id": "09c30af3",
   "metadata": {},
   "outputs": [],
   "source": [
    "df.drop(['oldpeak','thall','slp'],axis=1,inplace=True) #The Kaggle page did not mention what these columns are so I had to drop them just in case. I did try the other way too did not affect the model too much"
   ]
  },
  {
   "cell_type": "code",
   "execution_count": 175,
   "id": "f1833749",
   "metadata": {},
   "outputs": [
    {
     "data": {
      "text/html": [
       "<div>\n",
       "<style scoped>\n",
       "    .dataframe tbody tr th:only-of-type {\n",
       "        vertical-align: middle;\n",
       "    }\n",
       "\n",
       "    .dataframe tbody tr th {\n",
       "        vertical-align: top;\n",
       "    }\n",
       "\n",
       "    .dataframe thead th {\n",
       "        text-align: right;\n",
       "    }\n",
       "</style>\n",
       "<table border=\"1\" class=\"dataframe\">\n",
       "  <thead>\n",
       "    <tr style=\"text-align: right;\">\n",
       "      <th></th>\n",
       "      <th>age</th>\n",
       "      <th>sex</th>\n",
       "      <th>cp</th>\n",
       "      <th>trtbps</th>\n",
       "      <th>chol</th>\n",
       "      <th>fbs</th>\n",
       "      <th>restecg</th>\n",
       "      <th>thalachh</th>\n",
       "      <th>exng</th>\n",
       "      <th>caa</th>\n",
       "      <th>output</th>\n",
       "    </tr>\n",
       "  </thead>\n",
       "  <tbody>\n",
       "    <tr>\n",
       "      <th>0</th>\n",
       "      <td>63</td>\n",
       "      <td>1</td>\n",
       "      <td>3</td>\n",
       "      <td>145</td>\n",
       "      <td>233</td>\n",
       "      <td>1</td>\n",
       "      <td>0</td>\n",
       "      <td>150</td>\n",
       "      <td>0</td>\n",
       "      <td>0</td>\n",
       "      <td>1</td>\n",
       "    </tr>\n",
       "    <tr>\n",
       "      <th>1</th>\n",
       "      <td>37</td>\n",
       "      <td>1</td>\n",
       "      <td>2</td>\n",
       "      <td>130</td>\n",
       "      <td>250</td>\n",
       "      <td>0</td>\n",
       "      <td>1</td>\n",
       "      <td>187</td>\n",
       "      <td>0</td>\n",
       "      <td>0</td>\n",
       "      <td>1</td>\n",
       "    </tr>\n",
       "    <tr>\n",
       "      <th>2</th>\n",
       "      <td>41</td>\n",
       "      <td>0</td>\n",
       "      <td>1</td>\n",
       "      <td>130</td>\n",
       "      <td>204</td>\n",
       "      <td>0</td>\n",
       "      <td>0</td>\n",
       "      <td>172</td>\n",
       "      <td>0</td>\n",
       "      <td>0</td>\n",
       "      <td>1</td>\n",
       "    </tr>\n",
       "    <tr>\n",
       "      <th>3</th>\n",
       "      <td>56</td>\n",
       "      <td>1</td>\n",
       "      <td>1</td>\n",
       "      <td>120</td>\n",
       "      <td>236</td>\n",
       "      <td>0</td>\n",
       "      <td>1</td>\n",
       "      <td>178</td>\n",
       "      <td>0</td>\n",
       "      <td>0</td>\n",
       "      <td>1</td>\n",
       "    </tr>\n",
       "    <tr>\n",
       "      <th>4</th>\n",
       "      <td>57</td>\n",
       "      <td>0</td>\n",
       "      <td>0</td>\n",
       "      <td>120</td>\n",
       "      <td>354</td>\n",
       "      <td>0</td>\n",
       "      <td>1</td>\n",
       "      <td>163</td>\n",
       "      <td>1</td>\n",
       "      <td>0</td>\n",
       "      <td>1</td>\n",
       "    </tr>\n",
       "  </tbody>\n",
       "</table>\n",
       "</div>"
      ],
      "text/plain": [
       "   age  sex  cp  trtbps  chol  fbs  restecg  thalachh  exng  caa  output\n",
       "0   63    1   3     145   233    1        0       150     0    0       1\n",
       "1   37    1   2     130   250    0        1       187     0    0       1\n",
       "2   41    0   1     130   204    0        0       172     0    0       1\n",
       "3   56    1   1     120   236    0        1       178     0    0       1\n",
       "4   57    0   0     120   354    0        1       163     1    0       1"
      ]
     },
     "execution_count": 175,
     "metadata": {},
     "output_type": "execute_result"
    }
   ],
   "source": [
    "df.head()"
   ]
  },
  {
   "cell_type": "markdown",
   "id": "00b7a0e0",
   "metadata": {},
   "source": [
    "## Data Analysis"
   ]
  },
  {
   "cell_type": "markdown",
   "id": "987fc0d7",
   "metadata": {},
   "source": [
    "## About this dataset\n",
    "\n",
    "Age : Age of the patient\n",
    "\n",
    "Sex : Sex of the patient\n",
    "\n",
    "exang: exercise induced angina (1 = yes; 0 = no)\n",
    "\n",
    "ca: number of major vessels (0-3)\n",
    "\n",
    "cp : Chest Pain type chest pain type\n",
    "    Value 1: typical angina\n",
    "    Value 2: atypical angina\n",
    "    Value 3: non-anginal pain\n",
    "    Value 4: asymptomatic\n",
    "\n",
    "trtbps : resting blood pressure (in mm Hg)\n",
    "\n",
    "chol : cholestoral in mg/dl fetched via BMI sensor\n",
    "\n",
    "fbs : (fasting blood sugar > 120 mg/dl) (1 = true; 0 = false)\n",
    "\n",
    "rest_ecg : resting electrocardiographic results\n",
    "    Value 0: normal\n",
    "    Value 1: having ST-T wave abnormality (T wave inversions and/or ST elevation or depression of > 0.05 mV)\n",
    "    Value 2: showing probable or definite left ventricular hypertrophy by Estes' criteria\n",
    "\n",
    "thalach : maximum heart rate achieved\n",
    "\n",
    "target : 0= less chance of heart attack 1= more chance of heart attack\n"
   ]
  },
  {
   "cell_type": "code",
   "execution_count": 7,
   "id": "89179162",
   "metadata": {},
   "outputs": [
    {
     "data": {
      "text/plain": [
       "(303, 11)"
      ]
     },
     "execution_count": 7,
     "metadata": {},
     "output_type": "execute_result"
    }
   ],
   "source": [
    "df.shape"
   ]
  },
  {
   "cell_type": "code",
   "execution_count": 8,
   "id": "7a19185d",
   "metadata": {},
   "outputs": [
    {
     "data": {
      "text/plain": [
       "age         0\n",
       "sex         0\n",
       "cp          0\n",
       "trtbps      0\n",
       "chol        0\n",
       "fbs         0\n",
       "restecg     0\n",
       "thalachh    0\n",
       "exng        0\n",
       "caa         0\n",
       "output      0\n",
       "dtype: int64"
      ]
     },
     "execution_count": 8,
     "metadata": {},
     "output_type": "execute_result"
    }
   ],
   "source": [
    "df.isnull().sum()"
   ]
  },
  {
   "cell_type": "markdown",
   "id": "85674cd8",
   "metadata": {},
   "source": [
    "No null values! Hooray"
   ]
  },
  {
   "cell_type": "code",
   "execution_count": 9,
   "id": "34601ea5",
   "metadata": {},
   "outputs": [
    {
     "data": {
      "text/html": [
       "<div>\n",
       "<style scoped>\n",
       "    .dataframe tbody tr th:only-of-type {\n",
       "        vertical-align: middle;\n",
       "    }\n",
       "\n",
       "    .dataframe tbody tr th {\n",
       "        vertical-align: top;\n",
       "    }\n",
       "\n",
       "    .dataframe thead th {\n",
       "        text-align: right;\n",
       "    }\n",
       "</style>\n",
       "<table border=\"1\" class=\"dataframe\">\n",
       "  <thead>\n",
       "    <tr style=\"text-align: right;\">\n",
       "      <th></th>\n",
       "      <th>age</th>\n",
       "      <th>sex</th>\n",
       "      <th>cp</th>\n",
       "      <th>trtbps</th>\n",
       "      <th>chol</th>\n",
       "      <th>fbs</th>\n",
       "      <th>restecg</th>\n",
       "      <th>thalachh</th>\n",
       "      <th>exng</th>\n",
       "      <th>caa</th>\n",
       "      <th>output</th>\n",
       "    </tr>\n",
       "  </thead>\n",
       "  <tbody>\n",
       "    <tr>\n",
       "      <th>age</th>\n",
       "      <td>1.000000</td>\n",
       "      <td>-0.098447</td>\n",
       "      <td>-0.068653</td>\n",
       "      <td>0.279351</td>\n",
       "      <td>0.213678</td>\n",
       "      <td>0.121308</td>\n",
       "      <td>-0.116211</td>\n",
       "      <td>-0.398522</td>\n",
       "      <td>0.096801</td>\n",
       "      <td>0.276326</td>\n",
       "      <td>-0.225439</td>\n",
       "    </tr>\n",
       "    <tr>\n",
       "      <th>sex</th>\n",
       "      <td>-0.098447</td>\n",
       "      <td>1.000000</td>\n",
       "      <td>-0.049353</td>\n",
       "      <td>-0.056769</td>\n",
       "      <td>-0.197912</td>\n",
       "      <td>0.045032</td>\n",
       "      <td>-0.058196</td>\n",
       "      <td>-0.044020</td>\n",
       "      <td>0.141664</td>\n",
       "      <td>0.118261</td>\n",
       "      <td>-0.280937</td>\n",
       "    </tr>\n",
       "    <tr>\n",
       "      <th>cp</th>\n",
       "      <td>-0.068653</td>\n",
       "      <td>-0.049353</td>\n",
       "      <td>1.000000</td>\n",
       "      <td>0.047608</td>\n",
       "      <td>-0.076904</td>\n",
       "      <td>0.094444</td>\n",
       "      <td>0.044421</td>\n",
       "      <td>0.295762</td>\n",
       "      <td>-0.394280</td>\n",
       "      <td>-0.181053</td>\n",
       "      <td>0.433798</td>\n",
       "    </tr>\n",
       "    <tr>\n",
       "      <th>trtbps</th>\n",
       "      <td>0.279351</td>\n",
       "      <td>-0.056769</td>\n",
       "      <td>0.047608</td>\n",
       "      <td>1.000000</td>\n",
       "      <td>0.123174</td>\n",
       "      <td>0.177531</td>\n",
       "      <td>-0.114103</td>\n",
       "      <td>-0.046698</td>\n",
       "      <td>0.067616</td>\n",
       "      <td>0.101389</td>\n",
       "      <td>-0.144931</td>\n",
       "    </tr>\n",
       "    <tr>\n",
       "      <th>chol</th>\n",
       "      <td>0.213678</td>\n",
       "      <td>-0.197912</td>\n",
       "      <td>-0.076904</td>\n",
       "      <td>0.123174</td>\n",
       "      <td>1.000000</td>\n",
       "      <td>0.013294</td>\n",
       "      <td>-0.151040</td>\n",
       "      <td>-0.009940</td>\n",
       "      <td>0.067023</td>\n",
       "      <td>0.070511</td>\n",
       "      <td>-0.085239</td>\n",
       "    </tr>\n",
       "    <tr>\n",
       "      <th>fbs</th>\n",
       "      <td>0.121308</td>\n",
       "      <td>0.045032</td>\n",
       "      <td>0.094444</td>\n",
       "      <td>0.177531</td>\n",
       "      <td>0.013294</td>\n",
       "      <td>1.000000</td>\n",
       "      <td>-0.084189</td>\n",
       "      <td>-0.008567</td>\n",
       "      <td>0.025665</td>\n",
       "      <td>0.137979</td>\n",
       "      <td>-0.028046</td>\n",
       "    </tr>\n",
       "    <tr>\n",
       "      <th>restecg</th>\n",
       "      <td>-0.116211</td>\n",
       "      <td>-0.058196</td>\n",
       "      <td>0.044421</td>\n",
       "      <td>-0.114103</td>\n",
       "      <td>-0.151040</td>\n",
       "      <td>-0.084189</td>\n",
       "      <td>1.000000</td>\n",
       "      <td>0.044123</td>\n",
       "      <td>-0.070733</td>\n",
       "      <td>-0.072042</td>\n",
       "      <td>0.137230</td>\n",
       "    </tr>\n",
       "    <tr>\n",
       "      <th>thalachh</th>\n",
       "      <td>-0.398522</td>\n",
       "      <td>-0.044020</td>\n",
       "      <td>0.295762</td>\n",
       "      <td>-0.046698</td>\n",
       "      <td>-0.009940</td>\n",
       "      <td>-0.008567</td>\n",
       "      <td>0.044123</td>\n",
       "      <td>1.000000</td>\n",
       "      <td>-0.378812</td>\n",
       "      <td>-0.213177</td>\n",
       "      <td>0.421741</td>\n",
       "    </tr>\n",
       "    <tr>\n",
       "      <th>exng</th>\n",
       "      <td>0.096801</td>\n",
       "      <td>0.141664</td>\n",
       "      <td>-0.394280</td>\n",
       "      <td>0.067616</td>\n",
       "      <td>0.067023</td>\n",
       "      <td>0.025665</td>\n",
       "      <td>-0.070733</td>\n",
       "      <td>-0.378812</td>\n",
       "      <td>1.000000</td>\n",
       "      <td>0.115739</td>\n",
       "      <td>-0.436757</td>\n",
       "    </tr>\n",
       "    <tr>\n",
       "      <th>caa</th>\n",
       "      <td>0.276326</td>\n",
       "      <td>0.118261</td>\n",
       "      <td>-0.181053</td>\n",
       "      <td>0.101389</td>\n",
       "      <td>0.070511</td>\n",
       "      <td>0.137979</td>\n",
       "      <td>-0.072042</td>\n",
       "      <td>-0.213177</td>\n",
       "      <td>0.115739</td>\n",
       "      <td>1.000000</td>\n",
       "      <td>-0.391724</td>\n",
       "    </tr>\n",
       "    <tr>\n",
       "      <th>output</th>\n",
       "      <td>-0.225439</td>\n",
       "      <td>-0.280937</td>\n",
       "      <td>0.433798</td>\n",
       "      <td>-0.144931</td>\n",
       "      <td>-0.085239</td>\n",
       "      <td>-0.028046</td>\n",
       "      <td>0.137230</td>\n",
       "      <td>0.421741</td>\n",
       "      <td>-0.436757</td>\n",
       "      <td>-0.391724</td>\n",
       "      <td>1.000000</td>\n",
       "    </tr>\n",
       "  </tbody>\n",
       "</table>\n",
       "</div>"
      ],
      "text/plain": [
       "               age       sex        cp    trtbps      chol       fbs  \\\n",
       "age       1.000000 -0.098447 -0.068653  0.279351  0.213678  0.121308   \n",
       "sex      -0.098447  1.000000 -0.049353 -0.056769 -0.197912  0.045032   \n",
       "cp       -0.068653 -0.049353  1.000000  0.047608 -0.076904  0.094444   \n",
       "trtbps    0.279351 -0.056769  0.047608  1.000000  0.123174  0.177531   \n",
       "chol      0.213678 -0.197912 -0.076904  0.123174  1.000000  0.013294   \n",
       "fbs       0.121308  0.045032  0.094444  0.177531  0.013294  1.000000   \n",
       "restecg  -0.116211 -0.058196  0.044421 -0.114103 -0.151040 -0.084189   \n",
       "thalachh -0.398522 -0.044020  0.295762 -0.046698 -0.009940 -0.008567   \n",
       "exng      0.096801  0.141664 -0.394280  0.067616  0.067023  0.025665   \n",
       "caa       0.276326  0.118261 -0.181053  0.101389  0.070511  0.137979   \n",
       "output   -0.225439 -0.280937  0.433798 -0.144931 -0.085239 -0.028046   \n",
       "\n",
       "           restecg  thalachh      exng       caa    output  \n",
       "age      -0.116211 -0.398522  0.096801  0.276326 -0.225439  \n",
       "sex      -0.058196 -0.044020  0.141664  0.118261 -0.280937  \n",
       "cp        0.044421  0.295762 -0.394280 -0.181053  0.433798  \n",
       "trtbps   -0.114103 -0.046698  0.067616  0.101389 -0.144931  \n",
       "chol     -0.151040 -0.009940  0.067023  0.070511 -0.085239  \n",
       "fbs      -0.084189 -0.008567  0.025665  0.137979 -0.028046  \n",
       "restecg   1.000000  0.044123 -0.070733 -0.072042  0.137230  \n",
       "thalachh  0.044123  1.000000 -0.378812 -0.213177  0.421741  \n",
       "exng     -0.070733 -0.378812  1.000000  0.115739 -0.436757  \n",
       "caa      -0.072042 -0.213177  0.115739  1.000000 -0.391724  \n",
       "output    0.137230  0.421741 -0.436757 -0.391724  1.000000  "
      ]
     },
     "execution_count": 9,
     "metadata": {},
     "output_type": "execute_result"
    }
   ],
   "source": [
    "df.corr()"
   ]
  },
  {
   "cell_type": "code",
   "execution_count": 10,
   "id": "bbcc3ff1",
   "metadata": {},
   "outputs": [
    {
     "data": {
      "text/plain": [
       "<AxesSubplot:>"
      ]
     },
     "execution_count": 10,
     "metadata": {},
     "output_type": "execute_result"
    },
    {
     "data": {
      "image/png": "[encoded data removed]",
      "text/plain": [
       "<Figure size 432x288 with 2 Axes>"
      ]
     },
     "metadata": {
      "needs_background": "light"
     },
     "output_type": "display_data"
    }
   ],
   "source": [
    "sns.heatmap(df.corr())"
   ]
  },
  {
   "cell_type": "markdown",
   "id": "ce2bbcae",
   "metadata": {},
   "source": [
    "There is no significant correlation between our variables, Annother win in our battle against heart attacks"
   ]
  },
  {
   "cell_type": "code",
   "execution_count": 11,
   "id": "61251190",
   "metadata": {},
   "outputs": [
    {
     "data": {
      "text/plain": [
       "<AxesSubplot:title={'center':'Age of patients'}, xlabel='age', ylabel='count'>"
      ]
     },
     "execution_count": 11,
     "metadata": {},
     "output_type": "execute_result"
    },
    {
     "data": {
      "image/png": "[encoded data removed]",
      "text/plain": [
       "<Figure size 864x576 with 1 Axes>"
      ]
     },
     "metadata": {
      "needs_background": "light"
     },
     "output_type": "display_data"
    }
   ],
   "source": [
    "plt.figure(figsize=(12,8))\n",
    "plt.title('Age of patients')\n",
    "plt.xlabel('Age')\n",
    "sns.countplot(x='age',data=df)"
   ]
  },
  {
   "cell_type": "code",
   "execution_count": 12,
   "id": "c19e0e55",
   "metadata": {},
   "outputs": [
    {
     "data": {
      "text/plain": [
       "<AxesSubplot:title={'center':'Sex of patients'}, xlabel='sex', ylabel='count'>"
      ]
     },
     "execution_count": 12,
     "metadata": {},
     "output_type": "execute_result"
    },
    {
     "data": {
      "image/png": "[encoded data removed]",
      "text/plain": [
       "<Figure size 864x576 with 1 Axes>"
      ]
     },
     "metadata": {
      "needs_background": "light"
     },
     "output_type": "display_data"
    }
   ],
   "source": [
    "plt.figure(figsize=(12,8))\n",
    "plt.title('Sex of patients')\n",
    "plt.xlabel('Sex')\n",
    "sns.countplot(x='sex',data=df)"
   ]
  },
  {
   "cell_type": "code",
   "execution_count": 13,
   "id": "c4880d08",
   "metadata": {},
   "outputs": [
    {
     "data": {
      "text/html": [
       "<div>\n",
       "<style scoped>\n",
       "    .dataframe tbody tr th:only-of-type {\n",
       "        vertical-align: middle;\n",
       "    }\n",
       "\n",
       "    .dataframe tbody tr th {\n",
       "        vertical-align: top;\n",
       "    }\n",
       "\n",
       "    .dataframe thead th {\n",
       "        text-align: right;\n",
       "    }\n",
       "</style>\n",
       "<table border=\"1\" class=\"dataframe\">\n",
       "  <thead>\n",
       "    <tr style=\"text-align: right;\">\n",
       "      <th></th>\n",
       "      <th>index</th>\n",
       "      <th>cp</th>\n",
       "    </tr>\n",
       "  </thead>\n",
       "  <tbody>\n",
       "    <tr>\n",
       "      <th>0</th>\n",
       "      <td>Typical Angina</td>\n",
       "      <td>143</td>\n",
       "    </tr>\n",
       "    <tr>\n",
       "      <th>1</th>\n",
       "      <td>Atypical Angina</td>\n",
       "      <td>87</td>\n",
       "    </tr>\n",
       "    <tr>\n",
       "      <th>2</th>\n",
       "      <td>Non-Anginal</td>\n",
       "      <td>50</td>\n",
       "    </tr>\n",
       "    <tr>\n",
       "      <th>3</th>\n",
       "      <td>Asymptomatic</td>\n",
       "      <td>23</td>\n",
       "    </tr>\n",
       "  </tbody>\n",
       "</table>\n",
       "</div>"
      ],
      "text/plain": [
       "             index   cp\n",
       "0   Typical Angina  143\n",
       "1  Atypical Angina   87\n",
       "2      Non-Anginal   50\n",
       "3     Asymptomatic   23"
      ]
     },
     "execution_count": 13,
     "metadata": {},
     "output_type": "execute_result"
    }
   ],
   "source": [
    "cp_data = df['cp'].value_counts().reset_index()\n",
    "cp_data['index'][0] = 'Typical Angina'\n",
    "cp_data['index'][1] = 'Atypical Angina'\n",
    "cp_data['index'][2] = 'Non-Anginal'\n",
    "cp_data['index'][3] = 'Asymptomatic'\n",
    "cp_data"
   ]
  },
  {
   "cell_type": "code",
   "execution_count": 14,
   "id": "949c1f8d",
   "metadata": {},
   "outputs": [
    {
     "data": {
      "text/plain": [
       "<AxesSubplot:title={'center':'Chest pain type of patients'}, xlabel='cp', ylabel='index'>"
      ]
     },
     "execution_count": 14,
     "metadata": {},
     "output_type": "execute_result"
    },
    {
     "data": {
      "image/png": "[encoded data removed]",
      "text/plain": [
       "<Figure size 864x576 with 1 Axes>"
      ]
     },
     "metadata": {
      "needs_background": "light"
     },
     "output_type": "display_data"
    }
   ],
   "source": [
    "plt.figure(figsize=(12,8))\n",
    "plt.title('Chest pain type of patients')\n",
    "sns.barplot(x=cp_data['cp'],y=cp_data['index'])"
   ]
  },
  {
   "cell_type": "code",
   "execution_count": 15,
   "id": "1ec849c9",
   "metadata": {},
   "outputs": [
    {
     "data": {
      "text/html": [
       "<div>\n",
       "<style scoped>\n",
       "    .dataframe tbody tr th:only-of-type {\n",
       "        vertical-align: middle;\n",
       "    }\n",
       "\n",
       "    .dataframe tbody tr th {\n",
       "        vertical-align: top;\n",
       "    }\n",
       "\n",
       "    .dataframe thead th {\n",
       "        text-align: right;\n",
       "    }\n",
       "</style>\n",
       "<table border=\"1\" class=\"dataframe\">\n",
       "  <thead>\n",
       "    <tr style=\"text-align: right;\">\n",
       "      <th></th>\n",
       "      <th>index</th>\n",
       "      <th>restecg</th>\n",
       "    </tr>\n",
       "  </thead>\n",
       "  <tbody>\n",
       "    <tr>\n",
       "      <th>0</th>\n",
       "      <td>Normal</td>\n",
       "      <td>152</td>\n",
       "    </tr>\n",
       "    <tr>\n",
       "      <th>1</th>\n",
       "      <td>ST-T wave abnormality (T wave inversions and/o...</td>\n",
       "      <td>147</td>\n",
       "    </tr>\n",
       "    <tr>\n",
       "      <th>2</th>\n",
       "      <td>probable or definite left ventricular hypertro...</td>\n",
       "      <td>4</td>\n",
       "    </tr>\n",
       "  </tbody>\n",
       "</table>\n",
       "</div>"
      ],
      "text/plain": [
       "                                               index  restecg\n",
       "0                                             Normal      152\n",
       "1  ST-T wave abnormality (T wave inversions and/o...      147\n",
       "2  probable or definite left ventricular hypertro...        4"
      ]
     },
     "execution_count": 15,
     "metadata": {},
     "output_type": "execute_result"
    }
   ],
   "source": [
    "ecg_data = df['restecg'].value_counts().reset_index()\n",
    "ecg_data['index'][0] = 'Normal'\n",
    "ecg_data['index'][1] = 'ST-T wave abnormality (T wave inversions and/or ST elevation or depression of > 0.05 mV)'\n",
    "ecg_data['index'][2] = 'probable or definite left ventricular hypertrophy by Estes criteria'\n",
    "ecg_data"
   ]
  },
  {
   "cell_type": "code",
   "execution_count": 16,
   "id": "2eec36ef",
   "metadata": {},
   "outputs": [
    {
     "data": {
      "text/plain": [
       "<AxesSubplot:title={'center':'ECG type of patients'}, xlabel='restecg', ylabel='index'>"
      ]
     },
     "execution_count": 16,
     "metadata": {},
     "output_type": "execute_result"
    },
    {
     "data": {
      "image/png": "[encoded data removed]",
      "text/plain": [
       "<Figure size 1440x720 with 1 Axes>"
      ]
     },
     "metadata": {
      "needs_background": "light"
     },
     "output_type": "display_data"
    }
   ],
   "source": [
    "plt.figure(figsize=(20,10))\n",
    "plt.title('ECG type of patients')\n",
    "sns.barplot(x=ecg_data['restecg'],y=ecg_data['index'])"
   ]
  },
  {
   "cell_type": "code",
   "execution_count": 17,
   "id": "70fbd1a6",
   "metadata": {},
   "outputs": [],
   "source": [
    "#sns.pairplot(hue='output',data=df) #We all know why this is commented"
   ]
  },
  {
   "cell_type": "code",
   "execution_count": 18,
   "id": "19f2f018",
   "metadata": {},
   "outputs": [
    {
     "name": "stderr",
     "output_type": "stream",
     "text": [
      "/home/thayyeb/anaconda3/lib/python3.8/site-packages/seaborn/distributions.py:2619: FutureWarning: `distplot` is a deprecated function and will be removed in a future version. Please adapt your code to use either `displot` (a figure-level function with similar flexibility) or `histplot` (an axes-level function for histograms).\n",
      "  warnings.warn(msg, FutureWarning)\n",
      "/home/thayyeb/anaconda3/lib/python3.8/site-packages/seaborn/distributions.py:2619: FutureWarning: `distplot` is a deprecated function and will be removed in a future version. Please adapt your code to use either `displot` (a figure-level function with similar flexibility) or `histplot` (an axes-level function for histograms).\n",
      "  warnings.warn(msg, FutureWarning)\n"
     ]
    },
    {
     "data": {
      "text/plain": [
       "Text(0.5, 0, 'Maximum Heart Rate Acheived(bpm)')"
      ]
     },
     "execution_count": 18,
     "metadata": {},
     "output_type": "execute_result"
    },
    {
     "data": {
      "image/png": "[encoded data removed]",
      "text/plain": [
       "<Figure size 1440x720 with 2 Axes>"
      ]
     },
     "metadata": {
      "needs_background": "light"
     },
     "output_type": "display_data"
    }
   ],
   "source": [
    "plt.figure(figsize=(20,10))\n",
    "plt.subplot(1,2,1)\n",
    "sns.distplot(df['trtbps'], kde=True, color='teal')\n",
    "plt.xlabel('Resting Blood Pressure(mmHG)')\n",
    "plt.subplot(1,2,2)\n",
    "sns.distplot(df['thalachh'], kde=True, color='magenta')\n",
    "plt.xlabel('Maximum Heart Rate Acheived(bpm)')"
   ]
  },
  {
   "cell_type": "code",
   "execution_count": 19,
   "id": "c1ae87ae",
   "metadata": {},
   "outputs": [
    {
     "name": "stderr",
     "output_type": "stream",
     "text": [
      "/home/thayyeb/anaconda3/lib/python3.8/site-packages/seaborn/distributions.py:2619: FutureWarning: `distplot` is a deprecated function and will be removed in a future version. Please adapt your code to use either `displot` (a figure-level function with similar flexibility) or `histplot` (an axes-level function for histograms).\n",
      "  warnings.warn(msg, FutureWarning)\n"
     ]
    },
    {
     "data": {
      "text/plain": [
       "Text(0.5, 0, 'Cholestrol')"
      ]
     },
     "execution_count": 19,
     "metadata": {},
     "output_type": "execute_result"
    },
    {
     "data": {
      "image/png": "[encoded data removed]",
      "text/plain": [
       "<Figure size 720x720 with 1 Axes>"
      ]
     },
     "metadata": {
      "needs_background": "light"
     },
     "output_type": "display_data"
    }
   ],
   "source": [
    "plt.figure(figsize=(10,10))\n",
    "sns.distplot(df['chol'], kde=True, color='red')\n",
    "plt.xlabel('Cholestrol')"
   ]
  },
  {
   "cell_type": "code",
   "execution_count": 20,
   "id": "1d668ee4",
   "metadata": {},
   "outputs": [
    {
     "data": {
      "text/html": [
       "<div>\n",
       "<style scoped>\n",
       "    .dataframe tbody tr th:only-of-type {\n",
       "        vertical-align: middle;\n",
       "    }\n",
       "\n",
       "    .dataframe tbody tr th {\n",
       "        vertical-align: top;\n",
       "    }\n",
       "\n",
       "    .dataframe thead th {\n",
       "        text-align: right;\n",
       "    }\n",
       "</style>\n",
       "<table border=\"1\" class=\"dataframe\">\n",
       "  <thead>\n",
       "    <tr style=\"text-align: right;\">\n",
       "      <th></th>\n",
       "      <th>age</th>\n",
       "      <th>sex</th>\n",
       "      <th>cp</th>\n",
       "      <th>trtbps</th>\n",
       "      <th>chol</th>\n",
       "      <th>fbs</th>\n",
       "      <th>restecg</th>\n",
       "      <th>thalachh</th>\n",
       "      <th>exng</th>\n",
       "      <th>caa</th>\n",
       "      <th>output</th>\n",
       "    </tr>\n",
       "  </thead>\n",
       "  <tbody>\n",
       "    <tr>\n",
       "      <th>0</th>\n",
       "      <td>63</td>\n",
       "      <td>1</td>\n",
       "      <td>3</td>\n",
       "      <td>145</td>\n",
       "      <td>233</td>\n",
       "      <td>1</td>\n",
       "      <td>0</td>\n",
       "      <td>150</td>\n",
       "      <td>0</td>\n",
       "      <td>0</td>\n",
       "      <td>1</td>\n",
       "    </tr>\n",
       "    <tr>\n",
       "      <th>1</th>\n",
       "      <td>37</td>\n",
       "      <td>1</td>\n",
       "      <td>2</td>\n",
       "      <td>130</td>\n",
       "      <td>250</td>\n",
       "      <td>0</td>\n",
       "      <td>1</td>\n",
       "      <td>187</td>\n",
       "      <td>0</td>\n",
       "      <td>0</td>\n",
       "      <td>1</td>\n",
       "    </tr>\n",
       "    <tr>\n",
       "      <th>2</th>\n",
       "      <td>41</td>\n",
       "      <td>0</td>\n",
       "      <td>1</td>\n",
       "      <td>130</td>\n",
       "      <td>204</td>\n",
       "      <td>0</td>\n",
       "      <td>0</td>\n",
       "      <td>172</td>\n",
       "      <td>0</td>\n",
       "      <td>0</td>\n",
       "      <td>1</td>\n",
       "    </tr>\n",
       "    <tr>\n",
       "      <th>3</th>\n",
       "      <td>56</td>\n",
       "      <td>1</td>\n",
       "      <td>1</td>\n",
       "      <td>120</td>\n",
       "      <td>236</td>\n",
       "      <td>0</td>\n",
       "      <td>1</td>\n",
       "      <td>178</td>\n",
       "      <td>0</td>\n",
       "      <td>0</td>\n",
       "      <td>1</td>\n",
       "    </tr>\n",
       "    <tr>\n",
       "      <th>4</th>\n",
       "      <td>57</td>\n",
       "      <td>0</td>\n",
       "      <td>0</td>\n",
       "      <td>120</td>\n",
       "      <td>354</td>\n",
       "      <td>0</td>\n",
       "      <td>1</td>\n",
       "      <td>163</td>\n",
       "      <td>1</td>\n",
       "      <td>0</td>\n",
       "      <td>1</td>\n",
       "    </tr>\n",
       "  </tbody>\n",
       "</table>\n",
       "</div>"
      ],
      "text/plain": [
       "   age  sex  cp  trtbps  chol  fbs  restecg  thalachh  exng  caa  output\n",
       "0   63    1   3     145   233    1        0       150     0    0       1\n",
       "1   37    1   2     130   250    0        1       187     0    0       1\n",
       "2   41    0   1     130   204    0        0       172     0    0       1\n",
       "3   56    1   1     120   236    0        1       178     0    0       1\n",
       "4   57    0   0     120   354    0        1       163     1    0       1"
      ]
     },
     "execution_count": 20,
     "metadata": {},
     "output_type": "execute_result"
    }
   ],
   "source": [
    "df.head()"
   ]
  },
  {
   "cell_type": "markdown",
   "id": "6559c43d",
   "metadata": {},
   "source": [
    "## Traditional Slow Manaul Slow *-insert other adjectives-* Process \n",
    "Lets quickly go through a simple work flow and see how much we can get done with minimum time and effort\n"
   ]
  },
  {
   "cell_type": "markdown",
   "id": "bfca3850",
   "metadata": {},
   "source": [
    "#### Scaling "
   ]
  },
  {
   "cell_type": "code",
   "execution_count": 21,
   "id": "ef1046c8",
   "metadata": {},
   "outputs": [],
   "source": [
    "from sklearn.preprocessing import StandardScaler"
   ]
  },
  {
   "cell_type": "code",
   "execution_count": 22,
   "id": "489c17bb",
   "metadata": {},
   "outputs": [],
   "source": [
    "scale = StandardScaler()"
   ]
  },
  {
   "cell_type": "code",
   "execution_count": 23,
   "id": "abf2050e",
   "metadata": {},
   "outputs": [
    {
     "data": {
      "text/plain": [
       "StandardScaler()"
      ]
     },
     "execution_count": 23,
     "metadata": {},
     "output_type": "execute_result"
    }
   ],
   "source": [
    "scale.fit(df)"
   ]
  },
  {
   "cell_type": "code",
   "execution_count": 24,
   "id": "bc0be847",
   "metadata": {},
   "outputs": [
    {
     "data": {
      "text/plain": [
       "array([[ 0.9521966 ,  0.68100522,  1.97312292, ..., -0.69663055,\n",
       "        -0.71442887,  0.91452919],\n",
       "       [-1.91531289,  0.68100522,  1.00257707, ..., -0.69663055,\n",
       "        -0.71442887,  0.91452919],\n",
       "       [-1.47415758, -1.46841752,  0.03203122, ..., -0.69663055,\n",
       "        -0.71442887,  0.91452919],\n",
       "       ...,\n",
       "       [ 1.50364073,  0.68100522, -0.93851463, ..., -0.69663055,\n",
       "         1.24459328, -1.09345881],\n",
       "       [ 0.29046364,  0.68100522, -0.93851463, ...,  1.43548113,\n",
       "         0.26508221, -1.09345881],\n",
       "       [ 0.29046364, -1.46841752,  0.03203122, ..., -0.69663055,\n",
       "         0.26508221, -1.09345881]])"
      ]
     },
     "execution_count": 24,
     "metadata": {},
     "output_type": "execute_result"
    }
   ],
   "source": [
    "df_scaled = scale.transform(df)\n",
    "df_scaled"
   ]
  },
  {
   "cell_type": "code",
   "execution_count": 25,
   "id": "35d43796",
   "metadata": {},
   "outputs": [],
   "source": [
    "df_scaled = pd.DataFrame(df_scaled,columns=df.columns)"
   ]
  },
  {
   "cell_type": "code",
   "execution_count": 26,
   "id": "19a51a41",
   "metadata": {},
   "outputs": [
    {
     "data": {
      "text/html": [
       "<div>\n",
       "<style scoped>\n",
       "    .dataframe tbody tr th:only-of-type {\n",
       "        vertical-align: middle;\n",
       "    }\n",
       "\n",
       "    .dataframe tbody tr th {\n",
       "        vertical-align: top;\n",
       "    }\n",
       "\n",
       "    .dataframe thead th {\n",
       "        text-align: right;\n",
       "    }\n",
       "</style>\n",
       "<table border=\"1\" class=\"dataframe\">\n",
       "  <thead>\n",
       "    <tr style=\"text-align: right;\">\n",
       "      <th></th>\n",
       "      <th>age</th>\n",
       "      <th>sex</th>\n",
       "      <th>cp</th>\n",
       "      <th>trtbps</th>\n",
       "      <th>chol</th>\n",
       "      <th>fbs</th>\n",
       "      <th>restecg</th>\n",
       "      <th>thalachh</th>\n",
       "      <th>exng</th>\n",
       "      <th>caa</th>\n",
       "      <th>output</th>\n",
       "    </tr>\n",
       "  </thead>\n",
       "  <tbody>\n",
       "    <tr>\n",
       "      <th>0</th>\n",
       "      <td>0.952197</td>\n",
       "      <td>0.681005</td>\n",
       "      <td>1.973123</td>\n",
       "      <td>0.763956</td>\n",
       "      <td>-0.256334</td>\n",
       "      <td>2.394438</td>\n",
       "      <td>-1.005832</td>\n",
       "      <td>0.015443</td>\n",
       "      <td>-0.696631</td>\n",
       "      <td>-0.714429</td>\n",
       "      <td>0.914529</td>\n",
       "    </tr>\n",
       "    <tr>\n",
       "      <th>1</th>\n",
       "      <td>-1.915313</td>\n",
       "      <td>0.681005</td>\n",
       "      <td>1.002577</td>\n",
       "      <td>-0.092738</td>\n",
       "      <td>0.072199</td>\n",
       "      <td>-0.417635</td>\n",
       "      <td>0.898962</td>\n",
       "      <td>1.633471</td>\n",
       "      <td>-0.696631</td>\n",
       "      <td>-0.714429</td>\n",
       "      <td>0.914529</td>\n",
       "    </tr>\n",
       "    <tr>\n",
       "      <th>2</th>\n",
       "      <td>-1.474158</td>\n",
       "      <td>-1.468418</td>\n",
       "      <td>0.032031</td>\n",
       "      <td>-0.092738</td>\n",
       "      <td>-0.816773</td>\n",
       "      <td>-0.417635</td>\n",
       "      <td>-1.005832</td>\n",
       "      <td>0.977514</td>\n",
       "      <td>-0.696631</td>\n",
       "      <td>-0.714429</td>\n",
       "      <td>0.914529</td>\n",
       "    </tr>\n",
       "    <tr>\n",
       "      <th>3</th>\n",
       "      <td>0.180175</td>\n",
       "      <td>0.681005</td>\n",
       "      <td>0.032031</td>\n",
       "      <td>-0.663867</td>\n",
       "      <td>-0.198357</td>\n",
       "      <td>-0.417635</td>\n",
       "      <td>0.898962</td>\n",
       "      <td>1.239897</td>\n",
       "      <td>-0.696631</td>\n",
       "      <td>-0.714429</td>\n",
       "      <td>0.914529</td>\n",
       "    </tr>\n",
       "    <tr>\n",
       "      <th>4</th>\n",
       "      <td>0.290464</td>\n",
       "      <td>-1.468418</td>\n",
       "      <td>-0.938515</td>\n",
       "      <td>-0.663867</td>\n",
       "      <td>2.082050</td>\n",
       "      <td>-0.417635</td>\n",
       "      <td>0.898962</td>\n",
       "      <td>0.583939</td>\n",
       "      <td>1.435481</td>\n",
       "      <td>-0.714429</td>\n",
       "      <td>0.914529</td>\n",
       "    </tr>\n",
       "  </tbody>\n",
       "</table>\n",
       "</div>"
      ],
      "text/plain": [
       "        age       sex        cp    trtbps      chol       fbs   restecg  \\\n",
       "0  0.952197  0.681005  1.973123  0.763956 -0.256334  2.394438 -1.005832   \n",
       "1 -1.915313  0.681005  1.002577 -0.092738  0.072199 -0.417635  0.898962   \n",
       "2 -1.474158 -1.468418  0.032031 -0.092738 -0.816773 -0.417635 -1.005832   \n",
       "3  0.180175  0.681005  0.032031 -0.663867 -0.198357 -0.417635  0.898962   \n",
       "4  0.290464 -1.468418 -0.938515 -0.663867  2.082050 -0.417635  0.898962   \n",
       "\n",
       "   thalachh      exng       caa    output  \n",
       "0  0.015443 -0.696631 -0.714429  0.914529  \n",
       "1  1.633471 -0.696631 -0.714429  0.914529  \n",
       "2  0.977514 -0.696631 -0.714429  0.914529  \n",
       "3  1.239897 -0.696631 -0.714429  0.914529  \n",
       "4  0.583939  1.435481 -0.714429  0.914529  "
      ]
     },
     "execution_count": 26,
     "metadata": {},
     "output_type": "execute_result"
    }
   ],
   "source": [
    "df_scaled.head()"
   ]
  },
  {
   "cell_type": "code",
   "execution_count": 27,
   "id": "4d7ae0fd",
   "metadata": {},
   "outputs": [
    {
     "data": {
      "text/html": [
       "<div>\n",
       "<style scoped>\n",
       "    .dataframe tbody tr th:only-of-type {\n",
       "        vertical-align: middle;\n",
       "    }\n",
       "\n",
       "    .dataframe tbody tr th {\n",
       "        vertical-align: top;\n",
       "    }\n",
       "\n",
       "    .dataframe thead th {\n",
       "        text-align: right;\n",
       "    }\n",
       "</style>\n",
       "<table border=\"1\" class=\"dataframe\">\n",
       "  <thead>\n",
       "    <tr style=\"text-align: right;\">\n",
       "      <th></th>\n",
       "      <th>age</th>\n",
       "      <th>sex</th>\n",
       "      <th>cp</th>\n",
       "      <th>trtbps</th>\n",
       "      <th>chol</th>\n",
       "      <th>fbs</th>\n",
       "      <th>restecg</th>\n",
       "      <th>thalachh</th>\n",
       "      <th>exng</th>\n",
       "      <th>caa</th>\n",
       "    </tr>\n",
       "  </thead>\n",
       "  <tbody>\n",
       "    <tr>\n",
       "      <th>0</th>\n",
       "      <td>0.952197</td>\n",
       "      <td>0.681005</td>\n",
       "      <td>1.973123</td>\n",
       "      <td>0.763956</td>\n",
       "      <td>-0.256334</td>\n",
       "      <td>2.394438</td>\n",
       "      <td>-1.005832</td>\n",
       "      <td>0.015443</td>\n",
       "      <td>-0.696631</td>\n",
       "      <td>-0.714429</td>\n",
       "    </tr>\n",
       "    <tr>\n",
       "      <th>1</th>\n",
       "      <td>-1.915313</td>\n",
       "      <td>0.681005</td>\n",
       "      <td>1.002577</td>\n",
       "      <td>-0.092738</td>\n",
       "      <td>0.072199</td>\n",
       "      <td>-0.417635</td>\n",
       "      <td>0.898962</td>\n",
       "      <td>1.633471</td>\n",
       "      <td>-0.696631</td>\n",
       "      <td>-0.714429</td>\n",
       "    </tr>\n",
       "    <tr>\n",
       "      <th>2</th>\n",
       "      <td>-1.474158</td>\n",
       "      <td>-1.468418</td>\n",
       "      <td>0.032031</td>\n",
       "      <td>-0.092738</td>\n",
       "      <td>-0.816773</td>\n",
       "      <td>-0.417635</td>\n",
       "      <td>-1.005832</td>\n",
       "      <td>0.977514</td>\n",
       "      <td>-0.696631</td>\n",
       "      <td>-0.714429</td>\n",
       "    </tr>\n",
       "    <tr>\n",
       "      <th>3</th>\n",
       "      <td>0.180175</td>\n",
       "      <td>0.681005</td>\n",
       "      <td>0.032031</td>\n",
       "      <td>-0.663867</td>\n",
       "      <td>-0.198357</td>\n",
       "      <td>-0.417635</td>\n",
       "      <td>0.898962</td>\n",
       "      <td>1.239897</td>\n",
       "      <td>-0.696631</td>\n",
       "      <td>-0.714429</td>\n",
       "    </tr>\n",
       "    <tr>\n",
       "      <th>4</th>\n",
       "      <td>0.290464</td>\n",
       "      <td>-1.468418</td>\n",
       "      <td>-0.938515</td>\n",
       "      <td>-0.663867</td>\n",
       "      <td>2.082050</td>\n",
       "      <td>-0.417635</td>\n",
       "      <td>0.898962</td>\n",
       "      <td>0.583939</td>\n",
       "      <td>1.435481</td>\n",
       "      <td>-0.714429</td>\n",
       "    </tr>\n",
       "    <tr>\n",
       "      <th>...</th>\n",
       "      <td>...</td>\n",
       "      <td>...</td>\n",
       "      <td>...</td>\n",
       "      <td>...</td>\n",
       "      <td>...</td>\n",
       "      <td>...</td>\n",
       "      <td>...</td>\n",
       "      <td>...</td>\n",
       "      <td>...</td>\n",
       "      <td>...</td>\n",
       "    </tr>\n",
       "    <tr>\n",
       "      <th>298</th>\n",
       "      <td>0.290464</td>\n",
       "      <td>-1.468418</td>\n",
       "      <td>-0.938515</td>\n",
       "      <td>0.478391</td>\n",
       "      <td>-0.101730</td>\n",
       "      <td>-0.417635</td>\n",
       "      <td>0.898962</td>\n",
       "      <td>-1.165281</td>\n",
       "      <td>1.435481</td>\n",
       "      <td>-0.714429</td>\n",
       "    </tr>\n",
       "    <tr>\n",
       "      <th>299</th>\n",
       "      <td>-1.033002</td>\n",
       "      <td>0.681005</td>\n",
       "      <td>1.973123</td>\n",
       "      <td>-1.234996</td>\n",
       "      <td>0.342756</td>\n",
       "      <td>-0.417635</td>\n",
       "      <td>0.898962</td>\n",
       "      <td>-0.771706</td>\n",
       "      <td>-0.696631</td>\n",
       "      <td>-0.714429</td>\n",
       "    </tr>\n",
       "    <tr>\n",
       "      <th>300</th>\n",
       "      <td>1.503641</td>\n",
       "      <td>0.681005</td>\n",
       "      <td>-0.938515</td>\n",
       "      <td>0.706843</td>\n",
       "      <td>-1.029353</td>\n",
       "      <td>2.394438</td>\n",
       "      <td>0.898962</td>\n",
       "      <td>-0.378132</td>\n",
       "      <td>-0.696631</td>\n",
       "      <td>1.244593</td>\n",
       "    </tr>\n",
       "    <tr>\n",
       "      <th>301</th>\n",
       "      <td>0.290464</td>\n",
       "      <td>0.681005</td>\n",
       "      <td>-0.938515</td>\n",
       "      <td>-0.092738</td>\n",
       "      <td>-2.227533</td>\n",
       "      <td>-0.417635</td>\n",
       "      <td>0.898962</td>\n",
       "      <td>-1.515125</td>\n",
       "      <td>1.435481</td>\n",
       "      <td>0.265082</td>\n",
       "    </tr>\n",
       "    <tr>\n",
       "      <th>302</th>\n",
       "      <td>0.290464</td>\n",
       "      <td>-1.468418</td>\n",
       "      <td>0.032031</td>\n",
       "      <td>-0.092738</td>\n",
       "      <td>-0.198357</td>\n",
       "      <td>-0.417635</td>\n",
       "      <td>-1.005832</td>\n",
       "      <td>1.064975</td>\n",
       "      <td>-0.696631</td>\n",
       "      <td>0.265082</td>\n",
       "    </tr>\n",
       "  </tbody>\n",
       "</table>\n",
       "<p>303 rows × 10 columns</p>\n",
       "</div>"
      ],
      "text/plain": [
       "          age       sex        cp    trtbps      chol       fbs   restecg  \\\n",
       "0    0.952197  0.681005  1.973123  0.763956 -0.256334  2.394438 -1.005832   \n",
       "1   -1.915313  0.681005  1.002577 -0.092738  0.072199 -0.417635  0.898962   \n",
       "2   -1.474158 -1.468418  0.032031 -0.092738 -0.816773 -0.417635 -1.005832   \n",
       "3    0.180175  0.681005  0.032031 -0.663867 -0.198357 -0.417635  0.898962   \n",
       "4    0.290464 -1.468418 -0.938515 -0.663867  2.082050 -0.417635  0.898962   \n",
       "..        ...       ...       ...       ...       ...       ...       ...   \n",
       "298  0.290464 -1.468418 -0.938515  0.478391 -0.101730 -0.417635  0.898962   \n",
       "299 -1.033002  0.681005  1.973123 -1.234996  0.342756 -0.417635  0.898962   \n",
       "300  1.503641  0.681005 -0.938515  0.706843 -1.029353  2.394438  0.898962   \n",
       "301  0.290464  0.681005 -0.938515 -0.092738 -2.227533 -0.417635  0.898962   \n",
       "302  0.290464 -1.468418  0.032031 -0.092738 -0.198357 -0.417635 -1.005832   \n",
       "\n",
       "     thalachh      exng       caa  \n",
       "0    0.015443 -0.696631 -0.714429  \n",
       "1    1.633471 -0.696631 -0.714429  \n",
       "2    0.977514 -0.696631 -0.714429  \n",
       "3    1.239897 -0.696631 -0.714429  \n",
       "4    0.583939  1.435481 -0.714429  \n",
       "..        ...       ...       ...  \n",
       "298 -1.165281  1.435481 -0.714429  \n",
       "299 -0.771706 -0.696631 -0.714429  \n",
       "300 -0.378132 -0.696631  1.244593  \n",
       "301 -1.515125  1.435481  0.265082  \n",
       "302  1.064975 -0.696631  0.265082  \n",
       "\n",
       "[303 rows x 10 columns]"
      ]
     },
     "execution_count": 27,
     "metadata": {},
     "output_type": "execute_result"
    }
   ],
   "source": [
    "x = df_scaled.iloc[:,:-1]\n",
    "x"
   ]
  },
  {
   "cell_type": "code",
   "execution_count": 28,
   "id": "4fca52a9",
   "metadata": {},
   "outputs": [
    {
     "data": {
      "text/plain": [
       "0      0.914529\n",
       "1      0.914529\n",
       "2      0.914529\n",
       "3      0.914529\n",
       "4      0.914529\n",
       "         ...   \n",
       "298   -1.093459\n",
       "299   -1.093459\n",
       "300   -1.093459\n",
       "301   -1.093459\n",
       "302   -1.093459\n",
       "Name: output, Length: 303, dtype: float64"
      ]
     },
     "execution_count": 28,
     "metadata": {},
     "output_type": "execute_result"
    }
   ],
   "source": [
    "y = df_scaled.iloc[:,-1]\n",
    "y"
   ]
  },
  {
   "cell_type": "code",
   "execution_count": 29,
   "id": "e2f522e5",
   "metadata": {},
   "outputs": [],
   "source": [
    "from sklearn.model_selection import train_test_split\n",
    "X_train, X_test, y_train, y_test = train_test_split(x, y, test_size= 0.30, random_state = 101)"
   ]
  },
  {
   "cell_type": "markdown",
   "id": "ce7cd970",
   "metadata": {},
   "source": [
    "Slight note before you go through the code\n",
    "I would usually use loops and functions, I actively avoided them to imprint a few ideas into myself so beyond being a project this also a sweaty programming workout for me. Hope it doesnt affect the readability of the code\n"
   ]
  },
  {
   "cell_type": "markdown",
   "id": "74450956",
   "metadata": {},
   "source": [
    "# Lets figure out which model is going to represent the humans! \n",
    "\n",
    "Time to pick a champion for the humans, I will be going through a few of the staples in for binary classificcation, nothing overly complex but I will try be a generous god and give the humans a fair chance. "
   ]
  },
  {
   "cell_type": "markdown",
   "id": "fabd084e",
   "metadata": {},
   "source": [
    "# Logistic regression"
   ]
  },
  {
   "cell_type": "code",
   "execution_count": 30,
   "id": "230de517",
   "metadata": {},
   "outputs": [],
   "source": [
    "from sklearn.linear_model import LogisticRegression\n",
    "from sklearn.preprocessing import LabelEncoder"
   ]
  },
  {
   "cell_type": "code",
   "execution_count": 31,
   "id": "7eabda88",
   "metadata": {},
   "outputs": [],
   "source": [
    "lbl = LabelEncoder()"
   ]
  },
  {
   "cell_type": "code",
   "execution_count": 32,
   "id": "36960ab5",
   "metadata": {},
   "outputs": [
    {
     "data": {
      "text/plain": [
       "array([0, 0, 1, 1, 1, 1, 1, 0, 0, 0, 0, 0, 0, 0, 1, 0, 1, 1, 1, 0, 1, 0,\n",
       "       1, 0, 0, 1, 0, 1, 1, 1, 0, 1, 1, 0, 0, 0, 0, 0, 1, 1, 1, 1, 0, 0,\n",
       "       1, 1, 1, 1, 1, 1, 1, 1, 1, 0, 1, 0, 1, 1, 0, 0, 1, 0, 0, 0, 1, 1,\n",
       "       0, 1, 0, 1, 1, 1, 1, 1, 1, 0, 1, 0, 0, 1, 0, 1, 1, 0, 0, 1, 0, 0,\n",
       "       1, 0, 1, 0, 1, 1, 0, 0, 1, 1, 0, 0, 0, 1, 0, 0, 0, 1, 1, 0, 0, 0,\n",
       "       0, 1, 1, 0, 1, 1, 1, 1, 1, 1, 1, 1, 0, 1, 1, 0, 0, 1, 0, 0, 0, 1,\n",
       "       0, 1, 1, 0, 0, 0, 1, 0, 1, 0, 0, 0, 1, 0, 1, 1, 1, 1, 1, 0, 1, 1,\n",
       "       1, 1, 0, 1, 1, 1, 0, 1, 0, 0, 0, 1, 0, 0, 1, 1, 0, 0, 1, 0, 0, 1,\n",
       "       1, 1, 0, 0, 1, 1, 1, 1, 1, 0, 0, 1, 1, 0, 1, 1, 0, 0, 1, 1, 1, 1,\n",
       "       1, 0, 1, 1, 0, 0, 0, 0, 1, 1, 1, 1, 1, 1])"
      ]
     },
     "execution_count": 32,
     "metadata": {},
     "output_type": "execute_result"
    }
   ],
   "source": [
    "encoded_y = lbl.fit_transform(y_train)\n",
    "encoded_y"
   ]
  },
  {
   "cell_type": "code",
   "execution_count": 33,
   "id": "2684f58e",
   "metadata": {},
   "outputs": [],
   "source": [
    "logreg = LogisticRegression()"
   ]
  },
  {
   "cell_type": "code",
   "execution_count": 34,
   "id": "a85f555d",
   "metadata": {},
   "outputs": [
    {
     "data": {
      "text/plain": [
       "LogisticRegression()"
      ]
     },
     "execution_count": 34,
     "metadata": {},
     "output_type": "execute_result"
    }
   ],
   "source": [
    "logreg.fit(X_train, encoded_y)"
   ]
  },
  {
   "cell_type": "code",
   "execution_count": 35,
   "id": "a4aaa769",
   "metadata": {},
   "outputs": [],
   "source": [
    "from sklearn.metrics import accuracy_score\n",
    "from sklearn.metrics import confusion_matrix\n",
    "from sklearn.metrics import roc_curve, auc"
   ]
  },
  {
   "cell_type": "code",
   "execution_count": 36,
   "id": "d20b51d9",
   "metadata": {},
   "outputs": [],
   "source": [
    "encoded_ytest = lbl.fit_transform(y_test)"
   ]
  },
  {
   "cell_type": "code",
   "execution_count": 37,
   "id": "5283fac4",
   "metadata": {},
   "outputs": [],
   "source": [
    "y_pred1 = logreg.predict(X_test)\n",
    "lr_conf_matrix = confusion_matrix(encoded_ytest,y_pred1)\n",
    "lr_acc_score = accuracy_score(encoded_ytest, y_pred1)"
   ]
  },
  {
   "cell_type": "code",
   "execution_count": 38,
   "id": "ded62371",
   "metadata": {},
   "outputs": [
    {
     "data": {
      "text/plain": [
       "array([[35,  9],\n",
       "       [ 4, 43]])"
      ]
     },
     "execution_count": 38,
     "metadata": {},
     "output_type": "execute_result"
    }
   ],
   "source": [
    "lr_conf_matrix"
   ]
  },
  {
   "cell_type": "code",
   "execution_count": 39,
   "id": "34dd0112",
   "metadata": {},
   "outputs": [
    {
     "data": {
      "text/plain": [
       "85.71428571428571"
      ]
     },
     "execution_count": 39,
     "metadata": {},
     "output_type": "execute_result"
    }
   ],
   "source": [
    "lr_acc_score*100"
   ]
  },
  {
   "cell_type": "code",
   "execution_count": 40,
   "id": "bbedac98",
   "metadata": {},
   "outputs": [],
   "source": [
    "lgr_fpr, lgr_tpr, threshold = roc_curve(encoded_ytest, y_pred1)\n",
    "lgr_auc = auc(lgr_fpr,lgr_tpr)"
   ]
  },
  {
   "cell_type": "code",
   "execution_count": 41,
   "id": "4aa83f55",
   "metadata": {},
   "outputs": [
    {
     "data": {
      "text/plain": [
       "85.5174081237911"
      ]
     },
     "execution_count": 41,
     "metadata": {},
     "output_type": "execute_result"
    }
   ],
   "source": [
    "lgr_auc*100"
   ]
  },
  {
   "cell_type": "markdown",
   "id": "299f56df",
   "metadata": {},
   "source": [
    "# Decision Tree"
   ]
  },
  {
   "cell_type": "code",
   "execution_count": 42,
   "id": "6cde0f86",
   "metadata": {},
   "outputs": [],
   "source": [
    "from sklearn.tree import DecisionTreeClassifier "
   ]
  },
  {
   "cell_type": "code",
   "execution_count": 43,
   "id": "75e5a31a",
   "metadata": {},
   "outputs": [],
   "source": [
    "tree = DecisionTreeClassifier()"
   ]
  },
  {
   "cell_type": "code",
   "execution_count": 44,
   "id": "8d29a7ce",
   "metadata": {},
   "outputs": [
    {
     "data": {
      "text/plain": [
       "DecisionTreeClassifier()"
      ]
     },
     "execution_count": 44,
     "metadata": {},
     "output_type": "execute_result"
    }
   ],
   "source": [
    "tree.fit(X_train, encoded_y)"
   ]
  },
  {
   "cell_type": "code",
   "execution_count": 45,
   "id": "f1c59852",
   "metadata": {},
   "outputs": [],
   "source": [
    "ypred2 = tree.predict(X_test)"
   ]
  },
  {
   "cell_type": "code",
   "execution_count": 46,
   "id": "803dff3a",
   "metadata": {},
   "outputs": [],
   "source": [
    "tree_conf_matrix = confusion_matrix(encoded_ytest, ypred2)\n",
    "tree_acc_score = accuracy_score(encoded_ytest, ypred2)"
   ]
  },
  {
   "cell_type": "code",
   "execution_count": 47,
   "id": "79fce2b6",
   "metadata": {},
   "outputs": [
    {
     "data": {
      "text/plain": [
       "array([[26, 18],\n",
       "       [ 9, 38]])"
      ]
     },
     "execution_count": 47,
     "metadata": {},
     "output_type": "execute_result"
    }
   ],
   "source": [
    "tree_conf_matrix"
   ]
  },
  {
   "cell_type": "code",
   "execution_count": 48,
   "id": "3278e225",
   "metadata": {},
   "outputs": [
    {
     "data": {
      "text/plain": [
       "70.32967032967034"
      ]
     },
     "execution_count": 48,
     "metadata": {},
     "output_type": "execute_result"
    }
   ],
   "source": [
    "tree_acc_score*100"
   ]
  },
  {
   "cell_type": "markdown",
   "id": "adf00cec",
   "metadata": {},
   "source": [
    "# Random Forest Classifier "
   ]
  },
  {
   "cell_type": "code",
   "execution_count": 49,
   "id": "0023e3db",
   "metadata": {},
   "outputs": [],
   "source": [
    "from sklearn.ensemble import RandomForestClassifier"
   ]
  },
  {
   "cell_type": "code",
   "execution_count": 50,
   "id": "b378b032",
   "metadata": {},
   "outputs": [],
   "source": [
    "rf = RandomForestClassifier()"
   ]
  },
  {
   "cell_type": "code",
   "execution_count": 51,
   "id": "f82f9621",
   "metadata": {},
   "outputs": [
    {
     "data": {
      "text/plain": [
       "RandomForestClassifier()"
      ]
     },
     "execution_count": 51,
     "metadata": {},
     "output_type": "execute_result"
    }
   ],
   "source": [
    "rf.fit(X_train,encoded_y)"
   ]
  },
  {
   "cell_type": "code",
   "execution_count": 52,
   "id": "f7c86b51",
   "metadata": {},
   "outputs": [],
   "source": [
    "ypred3 = rf.predict(X_test)"
   ]
  },
  {
   "cell_type": "code",
   "execution_count": 53,
   "id": "cafcdca5",
   "metadata": {},
   "outputs": [],
   "source": [
    "rf_conf_matrix = confusion_matrix(encoded_ytest, ypred3)\n",
    "rf_acc_score = accuracy_score(encoded_ytest, ypred3)"
   ]
  },
  {
   "cell_type": "code",
   "execution_count": 54,
   "id": "a8af076e",
   "metadata": {},
   "outputs": [
    {
     "data": {
      "text/plain": [
       "array([[33, 11],\n",
       "       [ 5, 42]])"
      ]
     },
     "execution_count": 54,
     "metadata": {},
     "output_type": "execute_result"
    }
   ],
   "source": [
    "rf_conf_matrix"
   ]
  },
  {
   "cell_type": "code",
   "execution_count": 55,
   "id": "38150802",
   "metadata": {},
   "outputs": [
    {
     "data": {
      "text/plain": [
       "82.41758241758241"
      ]
     },
     "execution_count": 55,
     "metadata": {},
     "output_type": "execute_result"
    }
   ],
   "source": [
    "rf_acc_score*100"
   ]
  },
  {
   "cell_type": "markdown",
   "id": "2be5b44f",
   "metadata": {},
   "source": [
    "# KNearest Neighbors "
   ]
  },
  {
   "cell_type": "code",
   "execution_count": 56,
   "id": "3e72420d",
   "metadata": {},
   "outputs": [],
   "source": [
    "from sklearn.neighbors import KNeighborsClassifier"
   ]
  },
  {
   "cell_type": "code",
   "execution_count": 57,
   "id": "6e4f0f59",
   "metadata": {},
   "outputs": [
    {
     "data": {
      "text/plain": [
       "(11, 0.15384615384615385)"
      ]
     },
     "execution_count": 57,
     "metadata": {},
     "output_type": "execute_result"
    }
   ],
   "source": [
    "error_rate = []\n",
    "for i in range(1,40):\n",
    "    knn = KNeighborsClassifier(n_neighbors=i)\n",
    "    knn.fit(X_train,encoded_y)\n",
    "    pred = knn.predict(X_test)\n",
    "    error_rate.append(np.mean(pred != encoded_ytest))\n",
    "sorted_error_rate= sorted(error_rate)\n",
    "error_rate.index(sorted_error_rate[1]),sorted_error_rate[1] #This is where we find out whats the best N value "
   ]
  },
  {
   "cell_type": "code",
   "execution_count": 58,
   "id": "beee20a1",
   "metadata": {},
   "outputs": [
    {
     "data": {
      "image/png": "[encoded data removed]",
      "text/plain": [
       "<Figure size 720x432 with 1 Axes>"
      ]
     },
     "metadata": {
      "needs_background": "light"
     },
     "output_type": "display_data"
    }
   ],
   "source": [
    "plt.figure(figsize=(10,6))\n",
    "plt.plot(range(1,40),error_rate, color='teal', marker = \"o\",\n",
    "        markersize = 10)\n",
    "plt.xlabel(\"K Value\")\n",
    "plt.ylabel(\"Error rate\")\n",
    "plt.show()"
   ]
  },
  {
   "cell_type": "code",
   "execution_count": 59,
   "id": "537b8820",
   "metadata": {},
   "outputs": [],
   "source": [
    "knn = KNeighborsClassifier(n_neighbors=error_rate.index(sorted_error_rate[1]))\n",
    "knn.fit(X_train,encoded_y)\n",
    "ypred4 = knn.predict(X_test)"
   ]
  },
  {
   "cell_type": "code",
   "execution_count": 60,
   "id": "1bdf39f6",
   "metadata": {},
   "outputs": [],
   "source": [
    "knn_conf_matrix = confusion_matrix(encoded_ytest, ypred4)\n",
    "knn_acc_score = accuracy_score(encoded_ytest, ypred4) "
   ]
  },
  {
   "cell_type": "code",
   "execution_count": 61,
   "id": "60ab8c52",
   "metadata": {},
   "outputs": [
    {
     "data": {
      "text/plain": [
       "array([[34, 10],\n",
       "       [ 5, 42]])"
      ]
     },
     "execution_count": 61,
     "metadata": {},
     "output_type": "execute_result"
    }
   ],
   "source": [
    "knn_conf_matrix"
   ]
  },
  {
   "cell_type": "code",
   "execution_count": 62,
   "id": "f22e9d7a",
   "metadata": {},
   "outputs": [
    {
     "data": {
      "text/plain": [
       "83.51648351648352"
      ]
     },
     "execution_count": 62,
     "metadata": {},
     "output_type": "execute_result"
    }
   ],
   "source": [
    "knn_acc_score*100"
   ]
  },
  {
   "cell_type": "markdown",
   "id": "3d286f45",
   "metadata": {},
   "source": [
    "# SVM - SVC"
   ]
  },
  {
   "cell_type": "code",
   "execution_count": 63,
   "id": "9776e281",
   "metadata": {},
   "outputs": [],
   "source": [
    "from sklearn import svm"
   ]
  },
  {
   "cell_type": "code",
   "execution_count": 64,
   "id": "2710c32a",
   "metadata": {},
   "outputs": [],
   "source": [
    "svmc = svm.SVC(kernel = 'rbf', )"
   ]
  },
  {
   "cell_type": "code",
   "execution_count": 65,
   "id": "92f6be93",
   "metadata": {},
   "outputs": [
    {
     "data": {
      "text/plain": [
       "SVC()"
      ]
     },
     "execution_count": 65,
     "metadata": {},
     "output_type": "execute_result"
    }
   ],
   "source": [
    "svmc.fit(X_train,encoded_y)"
   ]
  },
  {
   "cell_type": "code",
   "execution_count": 66,
   "id": "b17e94bb",
   "metadata": {},
   "outputs": [],
   "source": [
    "ypred5 = svmc.predict(X_test)"
   ]
  },
  {
   "cell_type": "code",
   "execution_count": 67,
   "id": "dcbe3417",
   "metadata": {},
   "outputs": [],
   "source": [
    "svmc_conf_matrix = confusion_matrix(encoded_ytest,ypred5)\n",
    "svmc_acc_score = accuracy_score(encoded_ytest, ypred5)"
   ]
  },
  {
   "cell_type": "code",
   "execution_count": 68,
   "id": "2723ef72",
   "metadata": {},
   "outputs": [
    {
     "data": {
      "text/plain": [
       "array([[34, 10],\n",
       "       [ 8, 39]])"
      ]
     },
     "execution_count": 68,
     "metadata": {},
     "output_type": "execute_result"
    }
   ],
   "source": [
    "svmc_conf_matrix"
   ]
  },
  {
   "cell_type": "code",
   "execution_count": 69,
   "id": "43dead28",
   "metadata": {},
   "outputs": [
    {
     "data": {
      "text/plain": [
       "80.21978021978022"
      ]
     },
     "execution_count": 69,
     "metadata": {},
     "output_type": "execute_result"
    }
   ],
   "source": [
    "svmc_acc_score*100"
   ]
  },
  {
   "cell_type": "code",
   "execution_count": 70,
   "id": "e7e50ec6",
   "metadata": {},
   "outputs": [
    {
     "data": {
      "text/html": [
       "<div>\n",
       "<style scoped>\n",
       "    .dataframe tbody tr th:only-of-type {\n",
       "        vertical-align: middle;\n",
       "    }\n",
       "\n",
       "    .dataframe tbody tr th {\n",
       "        vertical-align: top;\n",
       "    }\n",
       "\n",
       "    .dataframe thead th {\n",
       "        text-align: right;\n",
       "    }\n",
       "</style>\n",
       "<table border=\"1\" class=\"dataframe\">\n",
       "  <thead>\n",
       "    <tr style=\"text-align: right;\">\n",
       "      <th></th>\n",
       "      <th>Model</th>\n",
       "      <th>Accuracy</th>\n",
       "    </tr>\n",
       "  </thead>\n",
       "  <tbody>\n",
       "    <tr>\n",
       "      <th>0</th>\n",
       "      <td>Logistic Regression</td>\n",
       "      <td>85.714286</td>\n",
       "    </tr>\n",
       "    <tr>\n",
       "      <th>1</th>\n",
       "      <td>Decision tree</td>\n",
       "      <td>70.329670</td>\n",
       "    </tr>\n",
       "    <tr>\n",
       "      <th>2</th>\n",
       "      <td>Random Forest</td>\n",
       "      <td>82.417582</td>\n",
       "    </tr>\n",
       "    <tr>\n",
       "      <th>3</th>\n",
       "      <td>KNN</td>\n",
       "      <td>83.516484</td>\n",
       "    </tr>\n",
       "    <tr>\n",
       "      <th>4</th>\n",
       "      <td>SVM</td>\n",
       "      <td>80.219780</td>\n",
       "    </tr>\n",
       "  </tbody>\n",
       "</table>\n",
       "</div>"
      ],
      "text/plain": [
       "                 Model   Accuracy\n",
       "0  Logistic Regression  85.714286\n",
       "1        Decision tree  70.329670\n",
       "2        Random Forest  82.417582\n",
       "3                  KNN  83.516484\n",
       "4                  SVM  80.219780"
      ]
     },
     "execution_count": 70,
     "metadata": {},
     "output_type": "execute_result"
    }
   ],
   "source": [
    "acc_score_df = pd.DataFrame({'Model':[\"Logistic Regression\", \"Decision tree\",\n",
    "                                     \"Random Forest\", \"KNN\", \"SVM\"], \n",
    "                             \"Accuracy\": [lr_acc_score*100, tree_acc_score*100,\n",
    "                                         rf_acc_score*100, knn_acc_score*100,\n",
    "                                         svmc_acc_score*100]})\n",
    "acc_score_df"
   ]
  },
  {
   "cell_type": "markdown",
   "id": "01d61fa8",
   "metadata": {},
   "source": [
    "#### If you didn't want to go through the previous models and the boring coding heres the summary in tabular form"
   ]
  },
  {
   "cell_type": "code",
   "execution_count": 94,
   "id": "22eb60ce",
   "metadata": {},
   "outputs": [
    {
     "data": {
      "text/html": [
       "<div>\n",
       "<style scoped>\n",
       "    .dataframe tbody tr th:only-of-type {\n",
       "        vertical-align: middle;\n",
       "    }\n",
       "\n",
       "    .dataframe tbody tr th {\n",
       "        vertical-align: top;\n",
       "    }\n",
       "\n",
       "    .dataframe thead th {\n",
       "        text-align: right;\n",
       "    }\n",
       "</style>\n",
       "<table border=\"1\" class=\"dataframe\">\n",
       "  <thead>\n",
       "    <tr style=\"text-align: right;\">\n",
       "      <th></th>\n",
       "      <th>Model</th>\n",
       "      <th>Accuracy</th>\n",
       "    </tr>\n",
       "  </thead>\n",
       "  <tbody>\n",
       "    <tr>\n",
       "      <th>0</th>\n",
       "      <td>Logistic Regression</td>\n",
       "      <td>85.714286</td>\n",
       "    </tr>\n",
       "    <tr>\n",
       "      <th>3</th>\n",
       "      <td>KNN</td>\n",
       "      <td>83.516484</td>\n",
       "    </tr>\n",
       "    <tr>\n",
       "      <th>2</th>\n",
       "      <td>Random Forest</td>\n",
       "      <td>82.417582</td>\n",
       "    </tr>\n",
       "    <tr>\n",
       "      <th>4</th>\n",
       "      <td>SVM</td>\n",
       "      <td>80.219780</td>\n",
       "    </tr>\n",
       "    <tr>\n",
       "      <th>1</th>\n",
       "      <td>Decision tree</td>\n",
       "      <td>70.329670</td>\n",
       "    </tr>\n",
       "  </tbody>\n",
       "</table>\n",
       "</div>"
      ],
      "text/plain": [
       "                 Model   Accuracy\n",
       "0  Logistic Regression  85.714286\n",
       "3                  KNN  83.516484\n",
       "2        Random Forest  82.417582\n",
       "4                  SVM  80.219780\n",
       "1        Decision tree  70.329670"
      ]
     },
     "execution_count": 94,
     "metadata": {},
     "output_type": "execute_result"
    }
   ],
   "source": [
    "acc_score_df.sort_values(by=[\"Accuracy\"],ascending = False,inplace = True)\n",
    "acc_score_df"
   ]
  },
  {
   "cell_type": "markdown",
   "id": "00066fa8",
   "metadata": {},
   "source": [
    "# Adaboost "
   ]
  },
  {
   "cell_type": "code",
   "execution_count": 95,
   "id": "6da1b79b",
   "metadata": {},
   "outputs": [],
   "source": [
    "from sklearn.ensemble import AdaBoostClassifier"
   ]
  },
  {
   "cell_type": "code",
   "execution_count": 96,
   "id": "94b74b38",
   "metadata": {},
   "outputs": [],
   "source": [
    "adab = AdaBoostClassifier(base_estimator=svm.SVC(), n_estimators=100, algorithm=\"SAMME\", learning_rate=0.01, random_state=0)"
   ]
  },
  {
   "cell_type": "code",
   "execution_count": 97,
   "id": "206e2f60",
   "metadata": {},
   "outputs": [
    {
     "data": {
      "text/plain": [
       "AdaBoostClassifier(algorithm='SAMME', base_estimator=SVC(), learning_rate=0.01,\n",
       "                   n_estimators=100, random_state=0)"
      ]
     },
     "execution_count": 97,
     "metadata": {},
     "output_type": "execute_result"
    }
   ],
   "source": [
    "adab.fit(X_train,encoded_y)"
   ]
  },
  {
   "cell_type": "code",
   "execution_count": 98,
   "id": "f70db8e0",
   "metadata": {},
   "outputs": [],
   "source": [
    "ypred6 = adab.predict(X_test)"
   ]
  },
  {
   "cell_type": "code",
   "execution_count": 99,
   "id": "a4783d3d",
   "metadata": {},
   "outputs": [],
   "source": [
    "adab_conf_matrix = confusion_matrix(encoded_ytest, ypred6)\n",
    "adab_acc_score = accuracy_score(encoded_ytest, ypred6)"
   ]
  },
  {
   "cell_type": "code",
   "execution_count": 100,
   "id": "8d0b6920",
   "metadata": {},
   "outputs": [
    {
     "data": {
      "text/plain": [
       "array([[ 0, 44],\n",
       "       [ 0, 47]])"
      ]
     },
     "execution_count": 100,
     "metadata": {},
     "output_type": "execute_result"
    }
   ],
   "source": [
    "adab_conf_matrix"
   ]
  },
  {
   "cell_type": "code",
   "execution_count": 101,
   "id": "718c6885",
   "metadata": {},
   "outputs": [
    {
     "data": {
      "text/plain": [
       "51.64835164835166"
      ]
     },
     "execution_count": 101,
     "metadata": {},
     "output_type": "execute_result"
    }
   ],
   "source": [
    "adab_acc_score*100"
   ]
  },
  {
   "cell_type": "markdown",
   "id": "300bf5f8",
   "metadata": {},
   "source": [
    "# GridSearchCV "
   ]
  },
  {
   "cell_type": "code",
   "execution_count": 102,
   "id": "a65ee4f9",
   "metadata": {},
   "outputs": [],
   "source": [
    "from sklearn.model_selection import GridSearchCV"
   ]
  },
  {
   "cell_type": "code",
   "execution_count": 103,
   "id": "240b7d3b",
   "metadata": {},
   "outputs": [
    {
     "data": {
      "text/html": [
       "<div>\n",
       "<style scoped>\n",
       "    .dataframe tbody tr th:only-of-type {\n",
       "        vertical-align: middle;\n",
       "    }\n",
       "\n",
       "    .dataframe tbody tr th {\n",
       "        vertical-align: top;\n",
       "    }\n",
       "\n",
       "    .dataframe thead th {\n",
       "        text-align: right;\n",
       "    }\n",
       "</style>\n",
       "<table border=\"1\" class=\"dataframe\">\n",
       "  <thead>\n",
       "    <tr style=\"text-align: right;\">\n",
       "      <th></th>\n",
       "      <th>Model</th>\n",
       "      <th>Accuracy</th>\n",
       "    </tr>\n",
       "  </thead>\n",
       "  <tbody>\n",
       "    <tr>\n",
       "      <th>0</th>\n",
       "      <td>Logistic Regression</td>\n",
       "      <td>85.714286</td>\n",
       "    </tr>\n",
       "    <tr>\n",
       "      <th>3</th>\n",
       "      <td>KNN</td>\n",
       "      <td>83.516484</td>\n",
       "    </tr>\n",
       "    <tr>\n",
       "      <th>2</th>\n",
       "      <td>Random Forest</td>\n",
       "      <td>82.417582</td>\n",
       "    </tr>\n",
       "    <tr>\n",
       "      <th>4</th>\n",
       "      <td>SVM</td>\n",
       "      <td>80.219780</td>\n",
       "    </tr>\n",
       "    <tr>\n",
       "      <th>1</th>\n",
       "      <td>Decision tree</td>\n",
       "      <td>70.329670</td>\n",
       "    </tr>\n",
       "  </tbody>\n",
       "</table>\n",
       "</div>"
      ],
      "text/plain": [
       "                 Model   Accuracy\n",
       "0  Logistic Regression  85.714286\n",
       "3                  KNN  83.516484\n",
       "2        Random Forest  82.417582\n",
       "4                  SVM  80.219780\n",
       "1        Decision tree  70.329670"
      ]
     },
     "execution_count": 103,
     "metadata": {},
     "output_type": "execute_result"
    }
   ],
   "source": [
    "acc_score_df"
   ]
  },
  {
   "cell_type": "markdown",
   "id": "b00fb121",
   "metadata": {},
   "source": [
    "#### Logistic Regression GridSearchCV "
   ]
  },
  {
   "cell_type": "code",
   "execution_count": 104,
   "id": "aa84b65a",
   "metadata": {},
   "outputs": [],
   "source": [
    "param_grid = {\n",
    "    \"C\":np.logspace(-3,3,7), \n",
    "    \"penalty\":[\"l1\",\"l2\"]\n",
    "}"
   ]
  },
  {
   "cell_type": "code",
   "execution_count": 105,
   "id": "24caa5ba",
   "metadata": {},
   "outputs": [],
   "source": [
    "grid1 = GridSearchCV(LogisticRegression(),param_grid, cv=5)"
   ]
  },
  {
   "cell_type": "code",
   "execution_count": 106,
   "id": "3e71a262",
   "metadata": {},
   "outputs": [
    {
     "name": "stderr",
     "output_type": "stream",
     "text": [
      "/home/thayyeb/anaconda3/lib/python3.8/site-packages/sklearn/model_selection/_validation.py:372: FitFailedWarning: \n",
      "35 fits failed out of a total of 70.\n",
      "The score on these train-test partitions for these parameters will be set to nan.\n",
      "If these failures are not expected, you can try to debug them by setting error_score='raise'.\n",
      "\n",
      "Below are more details about the failures:\n",
      "--------------------------------------------------------------------------------\n",
      "35 fits failed with the following error:\n",
      "Traceback (most recent call last):\n",
      "  File \"/home/thayyeb/anaconda3/lib/python3.8/site-packages/sklearn/model_selection/_validation.py\", line 681, in _fit_and_score\n",
      "    estimator.fit(X_train, y_train, **fit_params)\n",
      "  File \"/home/thayyeb/anaconda3/lib/python3.8/site-packages/sklearn/linear_model/_logistic.py\", line 1461, in fit\n",
      "    solver = _check_solver(self.solver, self.penalty, self.dual)\n",
      "  File \"/home/thayyeb/anaconda3/lib/python3.8/site-packages/sklearn/linear_model/_logistic.py\", line 447, in _check_solver\n",
      "    raise ValueError(\n",
      "ValueError: Solver lbfgs supports only 'l2' or 'none' penalties, got l1 penalty.\n",
      "\n",
      "  warnings.warn(some_fits_failed_message, FitFailedWarning)\n",
      "/home/thayyeb/anaconda3/lib/python3.8/site-packages/sklearn/model_selection/_search.py:969: UserWarning: One or more of the test scores are non-finite: [       nan 0.55658915        nan 0.78316722        nan 0.78781838\n",
      "        nan 0.78316722        nan 0.78316722        nan 0.78316722\n",
      "        nan 0.78316722]\n",
      "  warnings.warn(\n"
     ]
    },
    {
     "data": {
      "text/plain": [
       "GridSearchCV(cv=5, estimator=LogisticRegression(),\n",
       "             param_grid={'C': array([1.e-03, 1.e-02, 1.e-01, 1.e+00, 1.e+01, 1.e+02, 1.e+03]),\n",
       "                         'penalty': ['l1', 'l2']})"
      ]
     },
     "execution_count": 106,
     "metadata": {},
     "output_type": "execute_result"
    }
   ],
   "source": [
    "grid1.fit(X_train,encoded_y)"
   ]
  },
  {
   "cell_type": "code",
   "execution_count": 107,
   "id": "d0d846c8",
   "metadata": {},
   "outputs": [
    {
     "data": {
      "text/plain": [
       "{'C': 0.1, 'penalty': 'l2'}"
      ]
     },
     "execution_count": 107,
     "metadata": {},
     "output_type": "execute_result"
    }
   ],
   "source": [
    "grid1.best_params_"
   ]
  },
  {
   "cell_type": "code",
   "execution_count": 108,
   "id": "c06afe03",
   "metadata": {},
   "outputs": [],
   "source": [
    "logreg_model = LogisticRegression(C=0.1, penalty='l2')"
   ]
  },
  {
   "cell_type": "code",
   "execution_count": 109,
   "id": "cb8c1ffa",
   "metadata": {},
   "outputs": [
    {
     "data": {
      "text/plain": [
       "LogisticRegression(C=0.1)"
      ]
     },
     "execution_count": 109,
     "metadata": {},
     "output_type": "execute_result"
    }
   ],
   "source": [
    "logreg_model.fit(X_train,encoded_y)"
   ]
  },
  {
   "cell_type": "code",
   "execution_count": 110,
   "id": "55aa4abe",
   "metadata": {},
   "outputs": [],
   "source": [
    "logreg_pred = logreg_model.predict(X_test)"
   ]
  },
  {
   "cell_type": "code",
   "execution_count": 111,
   "id": "4dde0ba5",
   "metadata": {},
   "outputs": [],
   "source": [
    "logreg_model_conf_matrix = confusion_matrix(encoded_ytest,logreg_pred)\n",
    "logreg_acc_score = accuracy_score(encoded_ytest, logreg_pred)"
   ]
  },
  {
   "cell_type": "code",
   "execution_count": 112,
   "id": "8d836a17",
   "metadata": {},
   "outputs": [
    {
     "data": {
      "text/plain": [
       "array([[33, 11],\n",
       "       [ 4, 43]])"
      ]
     },
     "execution_count": 112,
     "metadata": {},
     "output_type": "execute_result"
    }
   ],
   "source": [
    "logreg_model_conf_matrix"
   ]
  },
  {
   "cell_type": "code",
   "execution_count": 113,
   "id": "3182b69a",
   "metadata": {},
   "outputs": [
    {
     "data": {
      "text/plain": [
       "83.51648351648352"
      ]
     },
     "execution_count": 113,
     "metadata": {},
     "output_type": "execute_result"
    }
   ],
   "source": [
    "logreg_acc_score*100"
   ]
  },
  {
   "cell_type": "markdown",
   "id": "885cd1bd",
   "metadata": {},
   "source": [
    "#### Decision tree GridSearchCV"
   ]
  },
  {
   "cell_type": "code",
   "execution_count": 114,
   "id": "5cc53758",
   "metadata": {},
   "outputs": [],
   "source": [
    "param_grid = { \n",
    "    'n_estimators': [10, 100, 200],\n",
    "    'max_features': ['auto', 'sqrt', 'log2'],\n",
    "    'max_depth' : [4,5,6,7,8],\n",
    "    'criterion' :['gini', 'entropy']\n",
    "}"
   ]
  },
  {
   "cell_type": "code",
   "execution_count": 115,
   "id": "bde4f2ea",
   "metadata": {},
   "outputs": [],
   "source": [
    "grid2 = GridSearchCV(RandomForestClassifier(), param_grid = param_grid)"
   ]
  },
  {
   "cell_type": "code",
   "execution_count": 116,
   "id": "246e6fc6",
   "metadata": {},
   "outputs": [
    {
     "data": {
      "text/plain": [
       "GridSearchCV(estimator=RandomForestClassifier(),\n",
       "             param_grid={'criterion': ['gini', 'entropy'],\n",
       "                         'max_depth': [4, 5, 6, 7, 8],\n",
       "                         'max_features': ['auto', 'sqrt', 'log2'],\n",
       "                         'n_estimators': [10, 100, 200]})"
      ]
     },
     "execution_count": 116,
     "metadata": {},
     "output_type": "execute_result"
    }
   ],
   "source": [
    "grid2.fit(X_train, encoded_y)"
   ]
  },
  {
   "cell_type": "code",
   "execution_count": 117,
   "id": "6a6723da",
   "metadata": {},
   "outputs": [
    {
     "data": {
      "text/plain": [
       "{'criterion': 'entropy',\n",
       " 'max_depth': 4,\n",
       " 'max_features': 'log2',\n",
       " 'n_estimators': 10}"
      ]
     },
     "execution_count": 117,
     "metadata": {},
     "output_type": "execute_result"
    }
   ],
   "source": [
    "grid2.best_params_"
   ]
  },
  {
   "cell_type": "code",
   "execution_count": 118,
   "id": "75cbbd56",
   "metadata": {},
   "outputs": [],
   "source": [
    "rfc = RandomForestClassifier(criterion = 'gini', max_depth = 7, max_features = 'log2', n_estimators = 100)"
   ]
  },
  {
   "cell_type": "code",
   "execution_count": 119,
   "id": "91a41dc9",
   "metadata": {},
   "outputs": [
    {
     "data": {
      "text/plain": [
       "RandomForestClassifier(max_depth=7, max_features='log2')"
      ]
     },
     "execution_count": 119,
     "metadata": {},
     "output_type": "execute_result"
    }
   ],
   "source": [
    "rfc.fit(X_train, encoded_y)"
   ]
  },
  {
   "cell_type": "code",
   "execution_count": 120,
   "id": "056fa3e8",
   "metadata": {},
   "outputs": [],
   "source": [
    "rfc_pred = rfc.predict(X_test)"
   ]
  },
  {
   "cell_type": "code",
   "execution_count": 121,
   "id": "2597319e",
   "metadata": {},
   "outputs": [],
   "source": [
    "rfc_conf_matrix = confusion_matrix(encoded_ytest, rfc_pred)\n",
    "rfc_acc_score = accuracy_score(encoded_ytest, rfc_pred)"
   ]
  },
  {
   "cell_type": "code",
   "execution_count": 122,
   "id": "1167f470",
   "metadata": {},
   "outputs": [
    {
     "data": {
      "text/plain": [
       "array([[31, 13],\n",
       "       [ 6, 41]])"
      ]
     },
     "execution_count": 122,
     "metadata": {},
     "output_type": "execute_result"
    }
   ],
   "source": [
    "rfc_conf_matrix"
   ]
  },
  {
   "cell_type": "code",
   "execution_count": 123,
   "id": "6b3c3421",
   "metadata": {},
   "outputs": [
    {
     "data": {
      "text/plain": [
       "0.7912087912087912"
      ]
     },
     "execution_count": 123,
     "metadata": {},
     "output_type": "execute_result"
    }
   ],
   "source": [
    "rfc_acc_score"
   ]
  },
  {
   "cell_type": "markdown",
   "id": "dc64cd30",
   "metadata": {},
   "source": [
    "We dont have any significant imporovement from the gridsearchCV "
   ]
  },
  {
   "cell_type": "markdown",
   "id": "47891726",
   "metadata": {},
   "source": [
    "#### And we have a peoples champ\n",
    "#### Lets go Logistic Regression"
   ]
  },
  {
   "cell_type": "code",
   "execution_count": 130,
   "id": "67c55cff",
   "metadata": {},
   "outputs": [
    {
     "data": {
      "text/plain": [
       "(85.71428571428571, 85.5174081237911)"
      ]
     },
     "execution_count": 130,
     "metadata": {},
     "output_type": "execute_result"
    }
   ],
   "source": [
    "lr_acc_score*100, lgr_auc*100"
   ]
  },
  {
   "cell_type": "markdown",
   "id": "162b0076",
   "metadata": {},
   "source": [
    "# The Challenger enters the ring...\n",
    "A big hunky(takes some time to install) robot an amalgamation of metal and semi complex functions - A formidable foe for the people champion"
   ]
  },
  {
   "cell_type": "code",
   "execution_count": 877,
   "id": "a4350621",
   "metadata": {},
   "outputs": [
    {
     "name": "stdout",
     "output_type": "stream",
     "text": [
      "Requirement already satisfied: evalml in /home/thayyeb/anaconda3/lib/python3.8/site-packages (0.47.0)\n",
      "Requirement already satisfied: nlp-primitives>=2.1.0 in /home/thayyeb/anaconda3/lib/python3.8/site-packages (from evalml) (2.3.0)\n",
      "Requirement already satisfied: plotly>=5.0.0 in /home/thayyeb/anaconda3/lib/python3.8/site-packages (from evalml) (5.6.0)\n",
      "Requirement already satisfied: cloudpickle>=1.5.0 in /home/thayyeb/anaconda3/lib/python3.8/site-packages (from evalml) (2.0.0)\n",
      "Requirement already satisfied: kaleido>=0.1.0 in /home/thayyeb/anaconda3/lib/python3.8/site-packages (from evalml) (0.2.1)\n",
      "Requirement already satisfied: pmdarima>=1.8.1 in /home/thayyeb/anaconda3/lib/python3.8/site-packages (from evalml) (1.8.5)\n",
      "Requirement already satisfied: sktime>=0.7.0 in /home/thayyeb/anaconda3/lib/python3.8/site-packages (from evalml) (0.11.0)\n",
      "Requirement already satisfied: scikit-optimize>=0.8.1 in /home/thayyeb/anaconda3/lib/python3.8/site-packages (from evalml) (0.9.0)\n",
      "Requirement already satisfied: statsmodels>=0.12.2 in /home/thayyeb/anaconda3/lib/python3.8/site-packages (from evalml) (0.12.2)\n",
      "Requirement already satisfied: dask>=2021.10.0 in /home/thayyeb/anaconda3/lib/python3.8/site-packages (from evalml) (2021.10.0)\n",
      "Requirement already satisfied: networkx<2.6,>=2.5 in /home/thayyeb/anaconda3/lib/python3.8/site-packages (from evalml) (2.5.1)\n",
      "Requirement already satisfied: ipywidgets>=7.5 in /home/thayyeb/anaconda3/lib/python3.8/site-packages (from evalml) (7.6.5)\n",
      "Requirement already satisfied: shap>=0.40.0 in /home/thayyeb/anaconda3/lib/python3.8/site-packages (from evalml) (0.40.0)\n",
      "Requirement already satisfied: scipy>=1.5.0 in /home/thayyeb/anaconda3/lib/python3.8/site-packages (from evalml) (1.7.3)\n",
      "Requirement already satisfied: matplotlib>=3.3.3 in /home/thayyeb/anaconda3/lib/python3.8/site-packages (from evalml) (3.5.0)\n",
      "Requirement already satisfied: seaborn>=0.11.1 in /home/thayyeb/anaconda3/lib/python3.8/site-packages (from evalml) (0.11.2)\n",
      "Requirement already satisfied: colorama>=0.4.4 in /home/thayyeb/anaconda3/lib/python3.8/site-packages (from evalml) (0.4.4)\n",
      "Requirement already satisfied: woodwork<0.14.0,>=0.12.0 in /home/thayyeb/anaconda3/lib/python3.8/site-packages (from evalml) (0.13.0)\n",
      "Requirement already satisfied: catboost>=0.20 in /home/thayyeb/anaconda3/lib/python3.8/site-packages (from evalml) (1.0.4)\n",
      "Requirement already satisfied: scikit-learn>=0.24.0 in /home/thayyeb/anaconda3/lib/python3.8/site-packages (from evalml) (1.0.1)\n",
      "Requirement already satisfied: click>=7.1.2 in /home/thayyeb/anaconda3/lib/python3.8/site-packages (from evalml) (8.0.3)\n",
      "Requirement already satisfied: requirements-parser>=0.2.0 in /home/thayyeb/anaconda3/lib/python3.8/site-packages (from evalml) (0.5.0)\n",
      "Requirement already satisfied: imbalanced-learn>=0.8.0 in /home/thayyeb/anaconda3/lib/python3.8/site-packages (from evalml) (0.9.0)\n",
      "Requirement already satisfied: vowpalwabbit>=8.11.0 in /home/thayyeb/anaconda3/lib/python3.8/site-packages (from evalml) (9.0.1)\n",
      "Requirement already satisfied: graphviz>=0.13 in /home/thayyeb/anaconda3/lib/python3.8/site-packages (from evalml) (0.19.1)\n",
      "Requirement already satisfied: lightgbm>=2.3.1 in /home/thayyeb/anaconda3/lib/python3.8/site-packages (from evalml) (3.3.2)\n",
      "Requirement already satisfied: pyzmq>=20.0.0 in /home/thayyeb/anaconda3/lib/python3.8/site-packages (from evalml) (22.3.0)\n",
      "Requirement already satisfied: pandas>=1.4.0 in /home/thayyeb/anaconda3/lib/python3.8/site-packages (from evalml) (1.4.1)\n",
      "Requirement already satisfied: texttable>=1.6.2 in /home/thayyeb/anaconda3/lib/python3.8/site-packages (from evalml) (1.6.4)\n",
      "Requirement already satisfied: numpy>=1.21.0 in /home/thayyeb/anaconda3/lib/python3.8/site-packages (from evalml) (1.21.5)\n",
      "Requirement already satisfied: category-encoders>=2.2.2 in /home/thayyeb/anaconda3/lib/python3.8/site-packages (from evalml) (2.4.0)\n",
      "Requirement already satisfied: lime>=0.2.0.1 in /home/thayyeb/anaconda3/lib/python3.8/site-packages (from evalml) (0.2.0.1)\n",
      "Requirement already satisfied: xgboost>=1.4.2 in /home/thayyeb/anaconda3/lib/python3.8/site-packages (from evalml) (1.5.2)\n",
      "Requirement already satisfied: featuretools>=1.2.0 in /home/thayyeb/anaconda3/lib/python3.8/site-packages (from evalml) (1.6.0)\n",
      "Requirement already satisfied: six in /home/thayyeb/anaconda3/lib/python3.8/site-packages (from catboost>=0.20->evalml) (1.16.0)\n",
      "Requirement already satisfied: patsy>=0.5.1 in /home/thayyeb/anaconda3/lib/python3.8/site-packages (from category-encoders>=2.2.2->evalml) (0.5.2)\n",
      "Requirement already satisfied: fsspec>=0.6.0 in /home/thayyeb/anaconda3/lib/python3.8/site-packages (from dask>=2021.10.0->evalml) (2021.10.1)\n",
      "Requirement already satisfied: packaging>=20.0 in /home/thayyeb/anaconda3/lib/python3.8/site-packages (from dask>=2021.10.0->evalml) (21.3)\n",
      "Requirement already satisfied: partd>=0.3.10 in /home/thayyeb/anaconda3/lib/python3.8/site-packages (from dask>=2021.10.0->evalml) (1.2.0)\n",
      "Requirement already satisfied: pyyaml in /home/thayyeb/anaconda3/lib/python3.8/site-packages (from dask>=2021.10.0->evalml) (6.0)\n",
      "Requirement already satisfied: toolz>=0.8.2 in /home/thayyeb/anaconda3/lib/python3.8/site-packages (from dask>=2021.10.0->evalml) (0.11.2)\n",
      "Requirement already satisfied: tqdm>=4.32.0 in /home/thayyeb/anaconda3/lib/python3.8/site-packages (from featuretools>=1.2.0->evalml) (4.62.3)\n",
      "Requirement already satisfied: psutil>=5.6.6 in /home/thayyeb/anaconda3/lib/python3.8/site-packages (from featuretools>=1.2.0->evalml) (5.8.0)\n",
      "Requirement already satisfied: holidays>=0.13 in /home/thayyeb/anaconda3/lib/python3.8/site-packages (from featuretools>=1.2.0->evalml) (0.13)\n",
      "Requirement already satisfied: distributed>=2021.10.0 in /home/thayyeb/anaconda3/lib/python3.8/site-packages (from featuretools>=1.2.0->evalml) (2021.10.0)\n",
      "Requirement already satisfied: tornado>=6.0.3 in /home/thayyeb/anaconda3/lib/python3.8/site-packages (from distributed>=2021.10.0->featuretools>=1.2.0->evalml) (6.1)\n",
      "Requirement already satisfied: zict>=0.1.3 in /home/thayyeb/anaconda3/lib/python3.8/site-packages (from distributed>=2021.10.0->featuretools>=1.2.0->evalml) (2.0.0)\n",
      "Requirement already satisfied: msgpack>=0.6.0 in /home/thayyeb/anaconda3/lib/python3.8/site-packages (from distributed>=2021.10.0->featuretools>=1.2.0->evalml) (1.0.2)\n",
      "Requirement already satisfied: sortedcontainers!=2.0.0,!=2.0.1 in /home/thayyeb/anaconda3/lib/python3.8/site-packages (from distributed>=2021.10.0->featuretools>=1.2.0->evalml) (2.4.0)\n",
      "Requirement already satisfied: tblib>=1.6.0 in /home/thayyeb/anaconda3/lib/python3.8/site-packages (from distributed>=2021.10.0->featuretools>=1.2.0->evalml) (1.7.0)\n",
      "Requirement already satisfied: setuptools in /home/thayyeb/anaconda3/lib/python3.8/site-packages (from distributed>=2021.10.0->featuretools>=1.2.0->evalml) (58.0.4)\n",
      "Requirement already satisfied: jinja2 in /home/thayyeb/anaconda3/lib/python3.8/site-packages (from distributed>=2021.10.0->featuretools>=1.2.0->evalml) (2.11.3)\n",
      "Requirement already satisfied: convertdate>=2.3.0 in /home/thayyeb/anaconda3/lib/python3.8/site-packages (from holidays>=0.13->featuretools>=1.2.0->evalml) (2.4.0)\n",
      "Requirement already satisfied: hijri-converter in /home/thayyeb/anaconda3/lib/python3.8/site-packages (from holidays>=0.13->featuretools>=1.2.0->evalml) (2.2.3)\n",
      "Requirement already satisfied: korean-lunar-calendar in /home/thayyeb/anaconda3/lib/python3.8/site-packages (from holidays>=0.13->featuretools>=1.2.0->evalml) (0.2.1)\n",
      "Requirement already satisfied: python-dateutil in /home/thayyeb/anaconda3/lib/python3.8/site-packages (from holidays>=0.13->featuretools>=1.2.0->evalml) (2.8.2)\n",
      "Requirement already satisfied: pymeeus<=1,>=0.3.13 in /home/thayyeb/anaconda3/lib/python3.8/site-packages (from convertdate>=2.3.0->holidays>=0.13->featuretools>=1.2.0->evalml) (0.5.11)\n",
      "Requirement already satisfied: joblib>=0.11 in /home/thayyeb/anaconda3/lib/python3.8/site-packages (from imbalanced-learn>=0.8.0->evalml) (1.1.0)\n",
      "Requirement already satisfied: threadpoolctl>=2.0.0 in /home/thayyeb/anaconda3/lib/python3.8/site-packages (from imbalanced-learn>=0.8.0->evalml) (2.2.0)\n",
      "Requirement already satisfied: nbformat>=4.2.0 in /home/thayyeb/anaconda3/lib/python3.8/site-packages (from ipywidgets>=7.5->evalml) (5.1.3)\n",
      "Requirement already satisfied: ipykernel>=4.5.1 in /home/thayyeb/anaconda3/lib/python3.8/site-packages (from ipywidgets>=7.5->evalml) (6.4.1)\n",
      "Requirement already satisfied: ipython-genutils~=0.2.0 in /home/thayyeb/anaconda3/lib/python3.8/site-packages (from ipywidgets>=7.5->evalml) (0.2.0)\n",
      "Requirement already satisfied: jupyterlab-widgets>=1.0.0 in /home/thayyeb/anaconda3/lib/python3.8/site-packages (from ipywidgets>=7.5->evalml) (1.0.0)\n",
      "Requirement already satisfied: widgetsnbextension~=3.5.0 in /home/thayyeb/anaconda3/lib/python3.8/site-packages (from ipywidgets>=7.5->evalml) (3.5.1)\n",
      "Requirement already satisfied: traitlets>=4.3.1 in /home/thayyeb/anaconda3/lib/python3.8/site-packages (from ipywidgets>=7.5->evalml) (5.1.1)\n",
      "Requirement already satisfied: ipython>=4.0.0 in /home/thayyeb/anaconda3/lib/python3.8/site-packages (from ipywidgets>=7.5->evalml) (7.29.0)\n",
      "Requirement already satisfied: debugpy<2.0,>=1.0.0 in /home/thayyeb/anaconda3/lib/python3.8/site-packages (from ipykernel>=4.5.1->ipywidgets>=7.5->evalml) (1.5.1)\n",
      "Requirement already satisfied: matplotlib-inline<0.2.0,>=0.1.0 in /home/thayyeb/anaconda3/lib/python3.8/site-packages (from ipykernel>=4.5.1->ipywidgets>=7.5->evalml) (0.1.2)\n",
      "Requirement already satisfied: jupyter-client<8.0 in /home/thayyeb/anaconda3/lib/python3.8/site-packages (from ipykernel>=4.5.1->ipywidgets>=7.5->evalml) (6.1.12)\n"
     ]
    },
    {
     "name": "stdout",
     "output_type": "stream",
     "text": [
      "Requirement already satisfied: prompt-toolkit!=3.0.0,!=3.0.1,<3.1.0,>=2.0.0 in /home/thayyeb/anaconda3/lib/python3.8/site-packages (from ipython>=4.0.0->ipywidgets>=7.5->evalml) (3.0.20)\n",
      "Requirement already satisfied: pickleshare in /home/thayyeb/anaconda3/lib/python3.8/site-packages (from ipython>=4.0.0->ipywidgets>=7.5->evalml) (0.7.5)\n",
      "Requirement already satisfied: backcall in /home/thayyeb/anaconda3/lib/python3.8/site-packages (from ipython>=4.0.0->ipywidgets>=7.5->evalml) (0.2.0)\n",
      "Requirement already satisfied: pexpect>4.3 in /home/thayyeb/anaconda3/lib/python3.8/site-packages (from ipython>=4.0.0->ipywidgets>=7.5->evalml) (4.8.0)\n",
      "Requirement already satisfied: jedi>=0.16 in /home/thayyeb/anaconda3/lib/python3.8/site-packages (from ipython>=4.0.0->ipywidgets>=7.5->evalml) (0.18.0)\n",
      "Requirement already satisfied: pygments in /home/thayyeb/anaconda3/lib/python3.8/site-packages (from ipython>=4.0.0->ipywidgets>=7.5->evalml) (2.10.0)\n",
      "Requirement already satisfied: decorator in /home/thayyeb/anaconda3/lib/python3.8/site-packages (from ipython>=4.0.0->ipywidgets>=7.5->evalml) (4.4.2)\n",
      "Requirement already satisfied: parso<0.9.0,>=0.8.0 in /home/thayyeb/anaconda3/lib/python3.8/site-packages (from jedi>=0.16->ipython>=4.0.0->ipywidgets>=7.5->evalml) (0.8.3)\n",
      "Requirement already satisfied: jupyter-core>=4.6.0 in /home/thayyeb/anaconda3/lib/python3.8/site-packages (from jupyter-client<8.0->ipykernel>=4.5.1->ipywidgets>=7.5->evalml) (4.9.1)\n",
      "Requirement already satisfied: wheel in /home/thayyeb/anaconda3/lib/python3.8/site-packages (from lightgbm>=2.3.1->evalml) (0.37.0)\n",
      "Requirement already satisfied: scikit-image>=0.12 in /home/thayyeb/anaconda3/lib/python3.8/site-packages (from lime>=0.2.0.1->evalml) (0.18.3)\n",
      "Requirement already satisfied: kiwisolver>=1.0.1 in /home/thayyeb/anaconda3/lib/python3.8/site-packages (from matplotlib>=3.3.3->evalml) (1.3.1)\n",
      "Requirement already satisfied: pillow>=6.2.0 in /home/thayyeb/anaconda3/lib/python3.8/site-packages (from matplotlib>=3.3.3->evalml) (8.4.0)\n",
      "Requirement already satisfied: pyparsing>=2.2.1 in /home/thayyeb/anaconda3/lib/python3.8/site-packages (from matplotlib>=3.3.3->evalml) (3.0.4)\n",
      "Requirement already satisfied: cycler>=0.10 in /home/thayyeb/anaconda3/lib/python3.8/site-packages (from matplotlib>=3.3.3->evalml) (0.11.0)\n",
      "Requirement already satisfied: fonttools>=4.22.0 in /home/thayyeb/anaconda3/lib/python3.8/site-packages (from matplotlib>=3.3.3->evalml) (4.25.0)\n",
      "Requirement already satisfied: jsonschema!=2.5.0,>=2.4 in /home/thayyeb/anaconda3/lib/python3.8/site-packages (from nbformat>=4.2.0->ipywidgets>=7.5->evalml) (3.2.0)\n",
      "Requirement already satisfied: attrs>=17.4.0 in /home/thayyeb/anaconda3/lib/python3.8/site-packages (from jsonschema!=2.5.0,>=2.4->nbformat>=4.2.0->ipywidgets>=7.5->evalml) (21.2.0)\n",
      "Requirement already satisfied: pyrsistent>=0.14.0 in /home/thayyeb/anaconda3/lib/python3.8/site-packages (from jsonschema!=2.5.0,>=2.4->nbformat>=4.2.0->ipywidgets>=7.5->evalml) (0.18.0)\n",
      "Requirement already satisfied: nltk>=3.4.5 in /home/thayyeb/anaconda3/lib/python3.8/site-packages (from nlp-primitives>=2.1.0->evalml) (3.6.5)\n",
      "Requirement already satisfied: regex>=2021.8.3 in /home/thayyeb/anaconda3/lib/python3.8/site-packages (from nltk>=3.4.5->nlp-primitives>=2.1.0->evalml) (2021.8.3)\n",
      "Requirement already satisfied: pytz>=2020.1 in /home/thayyeb/anaconda3/lib/python3.8/site-packages (from pandas>=1.4.0->evalml) (2021.3)\n",
      "Requirement already satisfied: locket in /home/thayyeb/anaconda3/lib/python3.8/site-packages/locket-0.2.1-py3.8.egg (from partd>=0.3.10->dask>=2021.10.0->evalml) (0.2.1)\n",
      "Requirement already satisfied: ptyprocess>=0.5 in /home/thayyeb/anaconda3/lib/python3.8/site-packages (from pexpect>4.3->ipython>=4.0.0->ipywidgets>=7.5->evalml) (0.7.0)\n",
      "Requirement already satisfied: tenacity>=6.2.0 in /home/thayyeb/anaconda3/lib/python3.8/site-packages (from plotly>=5.0.0->evalml) (8.0.1)\n",
      "Requirement already satisfied: urllib3 in /home/thayyeb/anaconda3/lib/python3.8/site-packages (from pmdarima>=1.8.1->evalml) (1.26.7)\n",
      "Requirement already satisfied: Cython!=0.29.18,>=0.29 in /home/thayyeb/anaconda3/lib/python3.8/site-packages (from pmdarima>=1.8.1->evalml) (0.29.25)\n",
      "Requirement already satisfied: wcwidth in /home/thayyeb/anaconda3/lib/python3.8/site-packages (from prompt-toolkit!=3.0.0,!=3.0.1,<3.1.0,>=2.0.0->ipython>=4.0.0->ipywidgets>=7.5->evalml) (0.2.5)\n",
      "Requirement already satisfied: types-setuptools>=57.0.0 in /home/thayyeb/anaconda3/lib/python3.8/site-packages (from requirements-parser>=0.2.0->evalml) (57.4.11)\n",
      "Requirement already satisfied: imageio>=2.3.0 in /home/thayyeb/anaconda3/lib/python3.8/site-packages (from scikit-image>=0.12->lime>=0.2.0.1->evalml) (2.9.0)\n",
      "Requirement already satisfied: tifffile>=2019.7.26 in /home/thayyeb/anaconda3/lib/python3.8/site-packages (from scikit-image>=0.12->lime>=0.2.0.1->evalml) (2021.7.2)\n",
      "Requirement already satisfied: PyWavelets>=1.1.1 in /home/thayyeb/anaconda3/lib/python3.8/site-packages (from scikit-image>=0.12->lime>=0.2.0.1->evalml) (1.1.1)\n",
      "Requirement already satisfied: pyaml>=16.9 in /home/thayyeb/anaconda3/lib/python3.8/site-packages (from scikit-optimize>=0.8.1->evalml) (21.10.1)\n",
      "Requirement already satisfied: numba in /home/thayyeb/anaconda3/lib/python3.8/site-packages (from shap>=0.40.0->evalml) (0.55.1)\n",
      "Requirement already satisfied: slicer==0.0.7 in /home/thayyeb/anaconda3/lib/python3.8/site-packages (from shap>=0.40.0->evalml) (0.0.7)\n",
      "Requirement already satisfied: deprecated>=1.2.13 in /home/thayyeb/anaconda3/lib/python3.8/site-packages (from sktime>=0.7.0->evalml) (1.2.13)\n",
      "Requirement already satisfied: wrapt<2,>=1.10 in /home/thayyeb/anaconda3/lib/python3.8/site-packages (from deprecated>=1.2.13->sktime>=0.7.0->evalml) (1.12.1)\n",
      "Requirement already satisfied: llvmlite<0.39,>=0.38.0rc1 in /home/thayyeb/anaconda3/lib/python3.8/site-packages (from numba->shap>=0.40.0->evalml) (0.38.0)\n",
      "Requirement already satisfied: notebook>=4.4.1 in /home/thayyeb/anaconda3/lib/python3.8/site-packages (from widgetsnbextension~=3.5.0->ipywidgets>=7.5->evalml) (6.4.6)\n",
      "Requirement already satisfied: nbconvert in /home/thayyeb/anaconda3/lib/python3.8/site-packages (from notebook>=4.4.1->widgetsnbextension~=3.5.0->ipywidgets>=7.5->evalml) (6.3.0)\n",
      "Requirement already satisfied: prometheus-client in /home/thayyeb/anaconda3/lib/python3.8/site-packages (from notebook>=4.4.1->widgetsnbextension~=3.5.0->ipywidgets>=7.5->evalml) (0.12.0)\n",
      "Requirement already satisfied: argon2-cffi in /home/thayyeb/anaconda3/lib/python3.8/site-packages (from notebook>=4.4.1->widgetsnbextension~=3.5.0->ipywidgets>=7.5->evalml) (20.1.0)\n",
      "Requirement already satisfied: Send2Trash>=1.8.0 in /home/thayyeb/anaconda3/lib/python3.8/site-packages (from notebook>=4.4.1->widgetsnbextension~=3.5.0->ipywidgets>=7.5->evalml) (1.8.0)\n",
      "Requirement already satisfied: nest-asyncio>=1.5 in /home/thayyeb/anaconda3/lib/python3.8/site-packages (from notebook>=4.4.1->widgetsnbextension~=3.5.0->ipywidgets>=7.5->evalml) (1.5.1)\n",
      "Requirement already satisfied: terminado>=0.8.3 in /home/thayyeb/anaconda3/lib/python3.8/site-packages (from notebook>=4.4.1->widgetsnbextension~=3.5.0->ipywidgets>=7.5->evalml) (0.9.4)\n",
      "Requirement already satisfied: heapdict in /home/thayyeb/anaconda3/lib/python3.8/site-packages (from zict>=0.1.3->distributed>=2021.10.0->featuretools>=1.2.0->evalml) (1.0.1)\n",
      "Requirement already satisfied: cffi>=1.0.0 in /home/thayyeb/anaconda3/lib/python3.8/site-packages (from argon2-cffi->notebook>=4.4.1->widgetsnbextension~=3.5.0->ipywidgets>=7.5->evalml) (1.14.6)\n",
      "Requirement already satisfied: pycparser in /home/thayyeb/anaconda3/lib/python3.8/site-packages (from cffi>=1.0.0->argon2-cffi->notebook>=4.4.1->widgetsnbextension~=3.5.0->ipywidgets>=7.5->evalml) (2.21)\n",
      "Requirement already satisfied: MarkupSafe>=0.23 in /home/thayyeb/anaconda3/lib/python3.8/site-packages (from jinja2->distributed>=2021.10.0->featuretools>=1.2.0->evalml) (1.1.1)\n",
      "Requirement already satisfied: entrypoints>=0.2.2 in /home/thayyeb/anaconda3/lib/python3.8/site-packages (from nbconvert->notebook>=4.4.1->widgetsnbextension~=3.5.0->ipywidgets>=7.5->evalml) (0.3)\n",
      "Requirement already satisfied: jupyterlab-pygments in /home/thayyeb/anaconda3/lib/python3.8/site-packages (from nbconvert->notebook>=4.4.1->widgetsnbextension~=3.5.0->ipywidgets>=7.5->evalml) (0.1.2)\n",
      "Requirement already satisfied: pandocfilters>=1.4.1 in /home/thayyeb/anaconda3/lib/python3.8/site-packages (from nbconvert->notebook>=4.4.1->widgetsnbextension~=3.5.0->ipywidgets>=7.5->evalml) (1.4.3)\n",
      "Requirement already satisfied: nbclient<0.6.0,>=0.5.0 in /home/thayyeb/anaconda3/lib/python3.8/site-packages (from nbconvert->notebook>=4.4.1->widgetsnbextension~=3.5.0->ipywidgets>=7.5->evalml) (0.5.3)\n",
      "Requirement already satisfied: mistune<2,>=0.8.1 in /home/thayyeb/anaconda3/lib/python3.8/site-packages (from nbconvert->notebook>=4.4.1->widgetsnbextension~=3.5.0->ipywidgets>=7.5->evalml) (0.8.4)\n",
      "Requirement already satisfied: bleach in /home/thayyeb/anaconda3/lib/python3.8/site-packages (from nbconvert->notebook>=4.4.1->widgetsnbextension~=3.5.0->ipywidgets>=7.5->evalml) (4.0.0)\n",
      "Requirement already satisfied: defusedxml in /home/thayyeb/anaconda3/lib/python3.8/site-packages (from nbconvert->notebook>=4.4.1->widgetsnbextension~=3.5.0->ipywidgets>=7.5->evalml) (0.7.1)\n",
      "Requirement already satisfied: testpath in /home/thayyeb/anaconda3/lib/python3.8/site-packages (from nbconvert->notebook>=4.4.1->widgetsnbextension~=3.5.0->ipywidgets>=7.5->evalml) (0.5.0)\n"
     ]
    },
    {
     "name": "stdout",
     "output_type": "stream",
     "text": [
      "Requirement already satisfied: async-generator in /home/thayyeb/anaconda3/lib/python3.8/site-packages (from nbclient<0.6.0,>=0.5.0->nbconvert->notebook>=4.4.1->widgetsnbextension~=3.5.0->ipywidgets>=7.5->evalml) (1.10)\n",
      "Requirement already satisfied: webencodings in /home/thayyeb/anaconda3/lib/python3.8/site-packages (from bleach->nbconvert->notebook>=4.4.1->widgetsnbextension~=3.5.0->ipywidgets>=7.5->evalml) (0.5.1)\n"
     ]
    }
   ],
   "source": [
    "!pip install evalml"
   ]
  },
  {
   "cell_type": "code",
   "execution_count": 131,
   "id": "7cbe50a4",
   "metadata": {},
   "outputs": [],
   "source": [
    "df = pd.read_csv('/home/thayyeb/Desktop/Project/Heart_attack/heart.csv')"
   ]
  },
  {
   "cell_type": "code",
   "execution_count": 132,
   "id": "ce23c7eb",
   "metadata": {},
   "outputs": [
    {
     "data": {
      "text/html": [
       "<div>\n",
       "<style scoped>\n",
       "    .dataframe tbody tr th:only-of-type {\n",
       "        vertical-align: middle;\n",
       "    }\n",
       "\n",
       "    .dataframe tbody tr th {\n",
       "        vertical-align: top;\n",
       "    }\n",
       "\n",
       "    .dataframe thead th {\n",
       "        text-align: right;\n",
       "    }\n",
       "</style>\n",
       "<table border=\"1\" class=\"dataframe\">\n",
       "  <thead>\n",
       "    <tr style=\"text-align: right;\">\n",
       "      <th></th>\n",
       "      <th>age</th>\n",
       "      <th>sex</th>\n",
       "      <th>cp</th>\n",
       "      <th>trtbps</th>\n",
       "      <th>chol</th>\n",
       "      <th>fbs</th>\n",
       "      <th>restecg</th>\n",
       "      <th>thalachh</th>\n",
       "      <th>exng</th>\n",
       "      <th>oldpeak</th>\n",
       "      <th>slp</th>\n",
       "      <th>caa</th>\n",
       "      <th>thall</th>\n",
       "      <th>output</th>\n",
       "    </tr>\n",
       "  </thead>\n",
       "  <tbody>\n",
       "    <tr>\n",
       "      <th>0</th>\n",
       "      <td>63</td>\n",
       "      <td>1</td>\n",
       "      <td>3</td>\n",
       "      <td>145</td>\n",
       "      <td>233</td>\n",
       "      <td>1</td>\n",
       "      <td>0</td>\n",
       "      <td>150</td>\n",
       "      <td>0</td>\n",
       "      <td>2.3</td>\n",
       "      <td>0</td>\n",
       "      <td>0</td>\n",
       "      <td>1</td>\n",
       "      <td>1</td>\n",
       "    </tr>\n",
       "    <tr>\n",
       "      <th>1</th>\n",
       "      <td>37</td>\n",
       "      <td>1</td>\n",
       "      <td>2</td>\n",
       "      <td>130</td>\n",
       "      <td>250</td>\n",
       "      <td>0</td>\n",
       "      <td>1</td>\n",
       "      <td>187</td>\n",
       "      <td>0</td>\n",
       "      <td>3.5</td>\n",
       "      <td>0</td>\n",
       "      <td>0</td>\n",
       "      <td>2</td>\n",
       "      <td>1</td>\n",
       "    </tr>\n",
       "    <tr>\n",
       "      <th>2</th>\n",
       "      <td>41</td>\n",
       "      <td>0</td>\n",
       "      <td>1</td>\n",
       "      <td>130</td>\n",
       "      <td>204</td>\n",
       "      <td>0</td>\n",
       "      <td>0</td>\n",
       "      <td>172</td>\n",
       "      <td>0</td>\n",
       "      <td>1.4</td>\n",
       "      <td>2</td>\n",
       "      <td>0</td>\n",
       "      <td>2</td>\n",
       "      <td>1</td>\n",
       "    </tr>\n",
       "    <tr>\n",
       "      <th>3</th>\n",
       "      <td>56</td>\n",
       "      <td>1</td>\n",
       "      <td>1</td>\n",
       "      <td>120</td>\n",
       "      <td>236</td>\n",
       "      <td>0</td>\n",
       "      <td>1</td>\n",
       "      <td>178</td>\n",
       "      <td>0</td>\n",
       "      <td>0.8</td>\n",
       "      <td>2</td>\n",
       "      <td>0</td>\n",
       "      <td>2</td>\n",
       "      <td>1</td>\n",
       "    </tr>\n",
       "    <tr>\n",
       "      <th>4</th>\n",
       "      <td>57</td>\n",
       "      <td>0</td>\n",
       "      <td>0</td>\n",
       "      <td>120</td>\n",
       "      <td>354</td>\n",
       "      <td>0</td>\n",
       "      <td>1</td>\n",
       "      <td>163</td>\n",
       "      <td>1</td>\n",
       "      <td>0.6</td>\n",
       "      <td>2</td>\n",
       "      <td>0</td>\n",
       "      <td>2</td>\n",
       "      <td>1</td>\n",
       "    </tr>\n",
       "  </tbody>\n",
       "</table>\n",
       "</div>"
      ],
      "text/plain": [
       "   age  sex  cp  trtbps  chol  fbs  restecg  thalachh  exng  oldpeak  slp  \\\n",
       "0   63    1   3     145   233    1        0       150     0      2.3    0   \n",
       "1   37    1   2     130   250    0        1       187     0      3.5    0   \n",
       "2   41    0   1     130   204    0        0       172     0      1.4    2   \n",
       "3   56    1   1     120   236    0        1       178     0      0.8    2   \n",
       "4   57    0   0     120   354    0        1       163     1      0.6    2   \n",
       "\n",
       "   caa  thall  output  \n",
       "0    0      1       1  \n",
       "1    0      2       1  \n",
       "2    0      2       1  \n",
       "3    0      2       1  \n",
       "4    0      2       1  "
      ]
     },
     "execution_count": 132,
     "metadata": {},
     "output_type": "execute_result"
    }
   ],
   "source": [
    "df.head()"
   ]
  },
  {
   "cell_type": "code",
   "execution_count": 133,
   "id": "e23bb09f",
   "metadata": {},
   "outputs": [
    {
     "data": {
      "text/plain": [
       "0      1\n",
       "1      1\n",
       "2      1\n",
       "3      1\n",
       "4      1\n",
       "      ..\n",
       "298    0\n",
       "299    0\n",
       "300    0\n",
       "301    0\n",
       "302    0\n",
       "Name: output, Length: 303, dtype: int64"
      ]
     },
     "execution_count": 133,
     "metadata": {},
     "output_type": "execute_result"
    }
   ],
   "source": [
    "X = df.iloc[:,:-1]\n",
    "y = df.iloc[:,-1]\n",
    "y"
   ]
  },
  {
   "cell_type": "code",
   "execution_count": 134,
   "id": "9bc6e81d",
   "metadata": {},
   "outputs": [
    {
     "data": {
      "text/plain": [
       "array([1, 1, 1, 1, 1, 1, 1, 1, 1, 1, 1, 1, 1, 1, 1, 1, 1, 1, 1, 1, 1, 1,\n",
       "       1, 1, 1, 1, 1, 1, 1, 1, 1, 1, 1, 1, 1, 1, 1, 1, 1, 1, 1, 1, 1, 1,\n",
       "       1, 1, 1, 1, 1, 1, 1, 1, 1, 1, 1, 1, 1, 1, 1, 1, 1, 1, 1, 1, 1, 1,\n",
       "       1, 1, 1, 1, 1, 1, 1, 1, 1, 1, 1, 1, 1, 1, 1, 1, 1, 1, 1, 1, 1, 1,\n",
       "       1, 1, 1, 1, 1, 1, 1, 1, 1, 1, 1, 1, 1, 1, 1, 1, 1, 1, 1, 1, 1, 1,\n",
       "       1, 1, 1, 1, 1, 1, 1, 1, 1, 1, 1, 1, 1, 1, 1, 1, 1, 1, 1, 1, 1, 1,\n",
       "       1, 1, 1, 1, 1, 1, 1, 1, 1, 1, 1, 1, 1, 1, 1, 1, 1, 1, 1, 1, 1, 1,\n",
       "       1, 1, 1, 1, 1, 1, 1, 1, 1, 1, 1, 0, 0, 0, 0, 0, 0, 0, 0, 0, 0, 0,\n",
       "       0, 0, 0, 0, 0, 0, 0, 0, 0, 0, 0, 0, 0, 0, 0, 0, 0, 0, 0, 0, 0, 0,\n",
       "       0, 0, 0, 0, 0, 0, 0, 0, 0, 0, 0, 0, 0, 0, 0, 0, 0, 0, 0, 0, 0, 0,\n",
       "       0, 0, 0, 0, 0, 0, 0, 0, 0, 0, 0, 0, 0, 0, 0, 0, 0, 0, 0, 0, 0, 0,\n",
       "       0, 0, 0, 0, 0, 0, 0, 0, 0, 0, 0, 0, 0, 0, 0, 0, 0, 0, 0, 0, 0, 0,\n",
       "       0, 0, 0, 0, 0, 0, 0, 0, 0, 0, 0, 0, 0, 0, 0, 0, 0, 0, 0, 0, 0, 0,\n",
       "       0, 0, 0, 0, 0, 0, 0, 0, 0, 0, 0, 0, 0, 0, 0, 0, 0])"
      ]
     },
     "execution_count": 134,
     "metadata": {},
     "output_type": "execute_result"
    }
   ],
   "source": [
    "y = lbl.fit_transform(y)\n",
    "y"
   ]
  },
  {
   "cell_type": "code",
   "execution_count": 135,
   "id": "4b263fec",
   "metadata": {},
   "outputs": [
    {
     "name": "stderr",
     "output_type": "stream",
     "text": [
      "pandas.Int64Index is deprecated and will be removed from pandas in a future version. Use pandas.Index with the appropriate dtype instead.\n",
      "pandas.Float64Index is deprecated and will be removed from pandas in a future version. Use pandas.Index with the appropriate dtype instead.\n"
     ]
    }
   ],
   "source": [
    "import evalml"
   ]
  },
  {
   "cell_type": "code",
   "execution_count": 136,
   "id": "af7bbee2",
   "metadata": {},
   "outputs": [],
   "source": [
    "X_train, X_test, y_train, y_test = evalml.preprocessing.split_data(x, y, problem_type = 'binary')"
   ]
  },
  {
   "cell_type": "code",
   "execution_count": 137,
   "id": "9bf9d8e7",
   "metadata": {},
   "outputs": [],
   "source": [
    "from evalml.automl import AutoMLSearch"
   ]
  },
  {
   "cell_type": "code",
   "execution_count": 138,
   "id": "57741b6f",
   "metadata": {},
   "outputs": [
    {
     "name": "stderr",
     "output_type": "stream",
     "text": [
      "\tHigh coefficient of variation (cv >= 0.5) within cross validation scores.\n",
      "\tDecision Tree Classifier w/ Label Encoder + Imputer + Select Columns Transformer may not perform as estimated on unseen data.\n"
     ]
    }
   ],
   "source": [
    "automl = AutoMLSearch(X_train = X_train, y_train=y_train, problem_type='binary')\n",
    "automl.search()"
   ]
  },
  {
   "cell_type": "code",
   "execution_count": 139,
   "id": "92ac3a2b",
   "metadata": {},
   "outputs": [
    {
     "data": {
      "text/html": [
       "<div>\n",
       "<style scoped>\n",
       "    .dataframe tbody tr th:only-of-type {\n",
       "        vertical-align: middle;\n",
       "    }\n",
       "\n",
       "    .dataframe tbody tr th {\n",
       "        vertical-align: top;\n",
       "    }\n",
       "\n",
       "    .dataframe thead th {\n",
       "        text-align: right;\n",
       "    }\n",
       "</style>\n",
       "<table border=\"1\" class=\"dataframe\">\n",
       "  <thead>\n",
       "    <tr style=\"text-align: right;\">\n",
       "      <th></th>\n",
       "      <th>id</th>\n",
       "      <th>pipeline_name</th>\n",
       "      <th>search_order</th>\n",
       "      <th>mean_cv_score</th>\n",
       "      <th>standard_deviation_cv_score</th>\n",
       "      <th>validation_score</th>\n",
       "      <th>percent_better_than_baseline</th>\n",
       "      <th>high_variance_cv</th>\n",
       "      <th>parameters</th>\n",
       "    </tr>\n",
       "  </thead>\n",
       "  <tbody>\n",
       "    <tr>\n",
       "      <th>0</th>\n",
       "      <td>2</td>\n",
       "      <td>Random Forest Classifier w/ Label Encoder + Im...</td>\n",
       "      <td>2</td>\n",
       "      <td>0.451508</td>\n",
       "      <td>0.021426</td>\n",
       "      <td>0.451508</td>\n",
       "      <td>97.123934</td>\n",
       "      <td>False</td>\n",
       "      <td>{'Label Encoder': {'positive_label': None}, 'I...</td>\n",
       "    </tr>\n",
       "    <tr>\n",
       "      <th>1</th>\n",
       "      <td>1</td>\n",
       "      <td>Logistic Regression Classifier w/ Label Encode...</td>\n",
       "      <td>1</td>\n",
       "      <td>0.488080</td>\n",
       "      <td>0.031375</td>\n",
       "      <td>0.488080</td>\n",
       "      <td>96.890973</td>\n",
       "      <td>False</td>\n",
       "      <td>{'Label Encoder': {'positive_label': None}, 'I...</td>\n",
       "    </tr>\n",
       "    <tr>\n",
       "      <th>2</th>\n",
       "      <td>7</td>\n",
       "      <td>Extra Trees Classifier w/ Label Encoder + Impu...</td>\n",
       "      <td>7</td>\n",
       "      <td>0.503184</td>\n",
       "      <td>0.035650</td>\n",
       "      <td>0.503184</td>\n",
       "      <td>96.794763</td>\n",
       "      <td>False</td>\n",
       "      <td>{'Label Encoder': {'positive_label': None}, 'I...</td>\n",
       "    </tr>\n",
       "    <tr>\n",
       "      <th>3</th>\n",
       "      <td>8</td>\n",
       "      <td>Elastic Net Classifier w/ Label Encoder + Impu...</td>\n",
       "      <td>8</td>\n",
       "      <td>0.535343</td>\n",
       "      <td>0.041176</td>\n",
       "      <td>0.535343</td>\n",
       "      <td>96.589911</td>\n",
       "      <td>False</td>\n",
       "      <td>{'Label Encoder': {'positive_label': None}, 'I...</td>\n",
       "    </tr>\n",
       "    <tr>\n",
       "      <th>4</th>\n",
       "      <td>4</td>\n",
       "      <td>Random Forest Classifier w/ Label Encoder + Im...</td>\n",
       "      <td>4</td>\n",
       "      <td>0.536233</td>\n",
       "      <td>0.042239</td>\n",
       "      <td>0.536233</td>\n",
       "      <td>96.584239</td>\n",
       "      <td>False</td>\n",
       "      <td>{'Label Encoder': {'positive_label': None}, 'I...</td>\n",
       "    </tr>\n",
       "    <tr>\n",
       "      <th>5</th>\n",
       "      <td>3</td>\n",
       "      <td>Logistic Regression Classifier w/ Label Encode...</td>\n",
       "      <td>3</td>\n",
       "      <td>0.545556</td>\n",
       "      <td>0.022902</td>\n",
       "      <td>0.545556</td>\n",
       "      <td>96.524857</td>\n",
       "      <td>False</td>\n",
       "      <td>{'Label Encoder': {'positive_label': None}, 'I...</td>\n",
       "    </tr>\n",
       "    <tr>\n",
       "      <th>6</th>\n",
       "      <td>11</td>\n",
       "      <td>Stacked Ensemble Classification Pipeline</td>\n",
       "      <td>11</td>\n",
       "      <td>0.570788</td>\n",
       "      <td>0.080627</td>\n",
       "      <td>0.570788</td>\n",
       "      <td>96.364128</td>\n",
       "      <td>False</td>\n",
       "      <td>{'Label Encoder': {'positive_label': None}, 'L...</td>\n",
       "    </tr>\n",
       "    <tr>\n",
       "      <th>7</th>\n",
       "      <td>6</td>\n",
       "      <td>LightGBM Classifier w/ Label Encoder + Imputer...</td>\n",
       "      <td>6</td>\n",
       "      <td>0.578308</td>\n",
       "      <td>0.091883</td>\n",
       "      <td>0.578308</td>\n",
       "      <td>96.316230</td>\n",
       "      <td>False</td>\n",
       "      <td>{'Label Encoder': {'positive_label': None}, 'I...</td>\n",
       "    </tr>\n",
       "    <tr>\n",
       "      <th>8</th>\n",
       "      <td>10</td>\n",
       "      <td>XGBoost Classifier w/ Label Encoder + Imputer ...</td>\n",
       "      <td>10</td>\n",
       "      <td>0.630667</td>\n",
       "      <td>0.099570</td>\n",
       "      <td>0.630667</td>\n",
       "      <td>95.982704</td>\n",
       "      <td>False</td>\n",
       "      <td>{'Label Encoder': {'positive_label': None}, 'I...</td>\n",
       "    </tr>\n",
       "    <tr>\n",
       "      <th>9</th>\n",
       "      <td>9</td>\n",
       "      <td>CatBoost Classifier w/ Label Encoder + Imputer...</td>\n",
       "      <td>9</td>\n",
       "      <td>0.652434</td>\n",
       "      <td>0.001917</td>\n",
       "      <td>0.652434</td>\n",
       "      <td>95.844051</td>\n",
       "      <td>False</td>\n",
       "      <td>{'Label Encoder': {'positive_label': None}, 'I...</td>\n",
       "    </tr>\n",
       "    <tr>\n",
       "      <th>10</th>\n",
       "      <td>5</td>\n",
       "      <td>Decision Tree Classifier w/ Label Encoder + Im...</td>\n",
       "      <td>5</td>\n",
       "      <td>7.422177</td>\n",
       "      <td>1.752987</td>\n",
       "      <td>7.422177</td>\n",
       "      <td>52.721366</td>\n",
       "      <td>True</td>\n",
       "      <td>{'Label Encoder': {'positive_label': None}, 'I...</td>\n",
       "    </tr>\n",
       "    <tr>\n",
       "      <th>11</th>\n",
       "      <td>0</td>\n",
       "      <td>Mode Baseline Binary Classification Pipeline</td>\n",
       "      <td>0</td>\n",
       "      <td>15.698798</td>\n",
       "      <td>0.135402</td>\n",
       "      <td>15.698798</td>\n",
       "      <td>0.000000</td>\n",
       "      <td>False</td>\n",
       "      <td>{'Label Encoder': {'positive_label': None}, 'B...</td>\n",
       "    </tr>\n",
       "  </tbody>\n",
       "</table>\n",
       "</div>"
      ],
      "text/plain": [
       "    id                                      pipeline_name  search_order  \\\n",
       "0    2  Random Forest Classifier w/ Label Encoder + Im...             2   \n",
       "1    1  Logistic Regression Classifier w/ Label Encode...             1   \n",
       "2    7  Extra Trees Classifier w/ Label Encoder + Impu...             7   \n",
       "3    8  Elastic Net Classifier w/ Label Encoder + Impu...             8   \n",
       "4    4  Random Forest Classifier w/ Label Encoder + Im...             4   \n",
       "5    3  Logistic Regression Classifier w/ Label Encode...             3   \n",
       "6   11           Stacked Ensemble Classification Pipeline            11   \n",
       "7    6  LightGBM Classifier w/ Label Encoder + Imputer...             6   \n",
       "8   10  XGBoost Classifier w/ Label Encoder + Imputer ...            10   \n",
       "9    9  CatBoost Classifier w/ Label Encoder + Imputer...             9   \n",
       "10   5  Decision Tree Classifier w/ Label Encoder + Im...             5   \n",
       "11   0       Mode Baseline Binary Classification Pipeline             0   \n",
       "\n",
       "    mean_cv_score  standard_deviation_cv_score  validation_score  \\\n",
       "0        0.451508                     0.021426          0.451508   \n",
       "1        0.488080                     0.031375          0.488080   \n",
       "2        0.503184                     0.035650          0.503184   \n",
       "3        0.535343                     0.041176          0.535343   \n",
       "4        0.536233                     0.042239          0.536233   \n",
       "5        0.545556                     0.022902          0.545556   \n",
       "6        0.570788                     0.080627          0.570788   \n",
       "7        0.578308                     0.091883          0.578308   \n",
       "8        0.630667                     0.099570          0.630667   \n",
       "9        0.652434                     0.001917          0.652434   \n",
       "10       7.422177                     1.752987          7.422177   \n",
       "11      15.698798                     0.135402         15.698798   \n",
       "\n",
       "    percent_better_than_baseline  high_variance_cv  \\\n",
       "0                      97.123934             False   \n",
       "1                      96.890973             False   \n",
       "2                      96.794763             False   \n",
       "3                      96.589911             False   \n",
       "4                      96.584239             False   \n",
       "5                      96.524857             False   \n",
       "6                      96.364128             False   \n",
       "7                      96.316230             False   \n",
       "8                      95.982704             False   \n",
       "9                      95.844051             False   \n",
       "10                     52.721366              True   \n",
       "11                      0.000000             False   \n",
       "\n",
       "                                           parameters  \n",
       "0   {'Label Encoder': {'positive_label': None}, 'I...  \n",
       "1   {'Label Encoder': {'positive_label': None}, 'I...  \n",
       "2   {'Label Encoder': {'positive_label': None}, 'I...  \n",
       "3   {'Label Encoder': {'positive_label': None}, 'I...  \n",
       "4   {'Label Encoder': {'positive_label': None}, 'I...  \n",
       "5   {'Label Encoder': {'positive_label': None}, 'I...  \n",
       "6   {'Label Encoder': {'positive_label': None}, 'L...  \n",
       "7   {'Label Encoder': {'positive_label': None}, 'I...  \n",
       "8   {'Label Encoder': {'positive_label': None}, 'I...  \n",
       "9   {'Label Encoder': {'positive_label': None}, 'I...  \n",
       "10  {'Label Encoder': {'positive_label': None}, 'I...  \n",
       "11  {'Label Encoder': {'positive_label': None}, 'B...  "
      ]
     },
     "execution_count": 139,
     "metadata": {},
     "output_type": "execute_result"
    }
   ],
   "source": [
    "automl.rankings"
   ]
  },
  {
   "cell_type": "code",
   "execution_count": 140,
   "id": "4a8c2566",
   "metadata": {},
   "outputs": [],
   "source": [
    "best_pipeline = automl.best_pipeline"
   ]
  },
  {
   "cell_type": "code",
   "execution_count": 141,
   "id": "85d8dc7b",
   "metadata": {},
   "outputs": [
    {
     "name": "stdout",
     "output_type": "stream",
     "text": [
      "\n",
      "*******************************************************\n",
      "* Random Forest Classifier w/ Label Encoder + Imputer *\n",
      "*******************************************************\n",
      "\n",
      "Problem Type: binary\n",
      "Model Family: Random Forest\n",
      "\n",
      "Pipeline Steps\n",
      "==============\n",
      "1. Label Encoder\n",
      "\t * positive_label : None\n",
      "2. Imputer\n",
      "\t * categorical_impute_strategy : most_frequent\n",
      "\t * numeric_impute_strategy : mean\n",
      "\t * categorical_fill_value : None\n",
      "\t * numeric_fill_value : None\n",
      "3. Random Forest Classifier\n",
      "\t * n_estimators : 100\n",
      "\t * max_depth : 6\n",
      "\t * n_jobs : -1\n",
      "\n",
      "Training\n",
      "========\n",
      "Training for binary problems.\n",
      "Total training time (including CV): 1.6 seconds\n",
      "\n",
      "Cross Validation\n",
      "----------------\n",
      "             Log Loss Binary  MCC Binary  Gini   AUC  Precision    F1  Balanced Accuracy Binary  Accuracy Binary # Training # Validation\n",
      "0                      0.467       0.561 0.740 0.870      0.852 0.719                     0.765            0.778        161           81\n",
      "1                      0.427       0.631 0.778 0.889      0.775 0.805                     0.817            0.815        161           81\n",
      "2                      0.461       0.591 0.725 0.862      0.913 0.712                     0.769            0.787        162           80\n",
      "mean                   0.452       0.594 0.747 0.874      0.847 0.745                     0.784            0.793          -            -\n",
      "std                    0.021       0.035 0.027 0.014      0.069 0.052                     0.029            0.019          -            -\n",
      "coef of var            0.047       0.059 0.037 0.016      0.082 0.070                     0.037            0.024          -            -\n"
     ]
    }
   ],
   "source": [
    "automl.describe_pipeline(automl.rankings.iloc[0]['id'])"
   ]
  },
  {
   "cell_type": "code",
   "execution_count": 142,
   "id": "465bb50d",
   "metadata": {},
   "outputs": [
    {
     "data": {
      "text/plain": [
       "OrderedDict([('AUC', 0.880952380952381),\n",
       "             ('F1', 0.823529411764706),\n",
       "             ('Precision', 0.8),\n",
       "             ('Recall', 0.8484848484848485)])"
      ]
     },
     "execution_count": 142,
     "metadata": {},
     "output_type": "execute_result"
    }
   ],
   "source": [
    "best_pipeline.score(X_test, y_test, objectives = ['auc','f1','Precision','Recall'])"
   ]
  },
  {
   "cell_type": "markdown",
   "id": "3fe08e80",
   "metadata": {},
   "source": [
    "### AutoML with AUC preference"
   ]
  },
  {
   "cell_type": "code",
   "execution_count": 143,
   "id": "f199e0e2",
   "metadata": {},
   "outputs": [
    {
     "data": {
      "text/plain": [
       "['expvariance',\n",
       " 'maxerror',\n",
       " 'medianae',\n",
       " 'mse',\n",
       " 'mae',\n",
       " 'r2',\n",
       " 'mean squared log error',\n",
       " 'root mean squared log error',\n",
       " 'root mean squared error',\n",
       " 'mean absolute percentage error',\n",
       " 'mcc multiclass',\n",
       " 'log loss multiclass',\n",
       " 'auc weighted',\n",
       " 'auc macro',\n",
       " 'auc micro',\n",
       " 'recall weighted',\n",
       " 'recall macro',\n",
       " 'recall micro',\n",
       " 'precision weighted',\n",
       " 'precision macro',\n",
       " 'precision micro',\n",
       " 'f1 weighted',\n",
       " 'f1 macro',\n",
       " 'f1 micro',\n",
       " 'balanced accuracy multiclass',\n",
       " 'accuracy multiclass',\n",
       " 'mcc binary',\n",
       " 'log loss binary',\n",
       " 'gini',\n",
       " 'auc',\n",
       " 'recall',\n",
       " 'precision',\n",
       " 'f1',\n",
       " 'balanced accuracy binary',\n",
       " 'accuracy binary',\n",
       " 'sensitivity at low alert rates',\n",
       " 'lead scoring',\n",
       " 'fraud cost',\n",
       " 'cost benefit matrix']"
      ]
     },
     "execution_count": 143,
     "metadata": {},
     "output_type": "execute_result"
    }
   ],
   "source": [
    "evalml.objectives.get_all_objective_names()"
   ]
  },
  {
   "cell_type": "code",
   "execution_count": 144,
   "id": "22ca7efe",
   "metadata": {},
   "outputs": [],
   "source": [
    "automl_auc = AutoMLSearch(X_train = X_train,\n",
    "                          y_train = y_train,\n",
    "                          problem_type = 'binary',\n",
    "                          objective = 'accuracy binary',\n",
    "                          additional_objectives = ['auc', 'Precision'], \n",
    "                          max_batches = 1, \n",
    "                          optimize_thresholds = True)\n",
    "automl_auc.search()"
   ]
  },
  {
   "cell_type": "code",
   "execution_count": 145,
   "id": "ac240f99",
   "metadata": {},
   "outputs": [
    {
     "data": {
      "text/html": [
       "<div>\n",
       "<style scoped>\n",
       "    .dataframe tbody tr th:only-of-type {\n",
       "        vertical-align: middle;\n",
       "    }\n",
       "\n",
       "    .dataframe tbody tr th {\n",
       "        vertical-align: top;\n",
       "    }\n",
       "\n",
       "    .dataframe thead th {\n",
       "        text-align: right;\n",
       "    }\n",
       "</style>\n",
       "<table border=\"1\" class=\"dataframe\">\n",
       "  <thead>\n",
       "    <tr style=\"text-align: right;\">\n",
       "      <th></th>\n",
       "      <th>id</th>\n",
       "      <th>pipeline_name</th>\n",
       "      <th>search_order</th>\n",
       "      <th>mean_cv_score</th>\n",
       "      <th>standard_deviation_cv_score</th>\n",
       "      <th>validation_score</th>\n",
       "      <th>percent_better_than_baseline</th>\n",
       "      <th>high_variance_cv</th>\n",
       "      <th>parameters</th>\n",
       "    </tr>\n",
       "  </thead>\n",
       "  <tbody>\n",
       "    <tr>\n",
       "      <th>0</th>\n",
       "      <td>2</td>\n",
       "      <td>Random Forest Classifier w/ Label Encoder + Im...</td>\n",
       "      <td>2</td>\n",
       "      <td>0.776852</td>\n",
       "      <td>0.012449</td>\n",
       "      <td>0.776852</td>\n",
       "      <td>23.137860</td>\n",
       "      <td>False</td>\n",
       "      <td>{'Label Encoder': {'positive_label': None}, 'I...</td>\n",
       "    </tr>\n",
       "    <tr>\n",
       "      <th>1</th>\n",
       "      <td>1</td>\n",
       "      <td>Logistic Regression Classifier w/ Label Encode...</td>\n",
       "      <td>1</td>\n",
       "      <td>0.756224</td>\n",
       "      <td>0.005435</td>\n",
       "      <td>0.756224</td>\n",
       "      <td>21.075103</td>\n",
       "      <td>False</td>\n",
       "      <td>{'Label Encoder': {'positive_label': None}, 'I...</td>\n",
       "    </tr>\n",
       "    <tr>\n",
       "      <th>2</th>\n",
       "      <td>0</td>\n",
       "      <td>Mode Baseline Binary Classification Pipeline</td>\n",
       "      <td>0</td>\n",
       "      <td>0.545473</td>\n",
       "      <td>0.003920</td>\n",
       "      <td>0.545473</td>\n",
       "      <td>0.000000</td>\n",
       "      <td>False</td>\n",
       "      <td>{'Label Encoder': {'positive_label': None}, 'B...</td>\n",
       "    </tr>\n",
       "  </tbody>\n",
       "</table>\n",
       "</div>"
      ],
      "text/plain": [
       "   id                                      pipeline_name  search_order  \\\n",
       "0   2  Random Forest Classifier w/ Label Encoder + Im...             2   \n",
       "1   1  Logistic Regression Classifier w/ Label Encode...             1   \n",
       "2   0       Mode Baseline Binary Classification Pipeline             0   \n",
       "\n",
       "   mean_cv_score  standard_deviation_cv_score  validation_score  \\\n",
       "0       0.776852                     0.012449          0.776852   \n",
       "1       0.756224                     0.005435          0.756224   \n",
       "2       0.545473                     0.003920          0.545473   \n",
       "\n",
       "   percent_better_than_baseline  high_variance_cv  \\\n",
       "0                     23.137860             False   \n",
       "1                     21.075103             False   \n",
       "2                      0.000000             False   \n",
       "\n",
       "                                          parameters  \n",
       "0  {'Label Encoder': {'positive_label': None}, 'I...  \n",
       "1  {'Label Encoder': {'positive_label': None}, 'I...  \n",
       "2  {'Label Encoder': {'positive_label': None}, 'B...  "
      ]
     },
     "execution_count": 145,
     "metadata": {},
     "output_type": "execute_result"
    }
   ],
   "source": [
    "automl_auc.rankings"
   ]
  },
  {
   "cell_type": "code",
   "execution_count": 146,
   "id": "9fe4d0d6",
   "metadata": {},
   "outputs": [
    {
     "data": {
      "text/plain": [
       "pipeline = BinaryClassificationPipeline(component_graph={'Label Encoder': ['Label Encoder', 'X', 'y'], 'Imputer': ['Imputer', 'X', 'Label Encoder.y'], 'Random Forest Classifier': ['Random Forest Classifier', 'Imputer.x', 'Label Encoder.y']}, parameters={'Label Encoder':{'positive_label': None}, 'Imputer':{'categorical_impute_strategy': 'most_frequent', 'numeric_impute_strategy': 'mean', 'categorical_fill_value': None, 'numeric_fill_value': None}, 'Random Forest Classifier':{'n_estimators': 100, 'max_depth': 6, 'n_jobs': -1}}, random_seed=0)"
      ]
     },
     "execution_count": 146,
     "metadata": {},
     "output_type": "execute_result"
    }
   ],
   "source": [
    "automl_auc.best_pipeline"
   ]
  },
  {
   "cell_type": "code",
   "execution_count": 147,
   "id": "6fd1ee32",
   "metadata": {},
   "outputs": [],
   "source": [
    "bestpipeline = automl_auc.best_pipeline"
   ]
  },
  {
   "cell_type": "code",
   "execution_count": 148,
   "id": "485982a5",
   "metadata": {},
   "outputs": [
    {
     "name": "stdout",
     "output_type": "stream",
     "text": [
      "\n",
      "*******************************************************\n",
      "* Random Forest Classifier w/ Label Encoder + Imputer *\n",
      "*******************************************************\n",
      "\n",
      "Problem Type: binary\n",
      "Model Family: Random Forest\n",
      "\n",
      "Pipeline Steps\n",
      "==============\n",
      "1. Label Encoder\n",
      "\t * positive_label : None\n",
      "2. Imputer\n",
      "\t * categorical_impute_strategy : most_frequent\n",
      "\t * numeric_impute_strategy : mean\n",
      "\t * categorical_fill_value : None\n",
      "\t * numeric_fill_value : None\n",
      "3. Random Forest Classifier\n",
      "\t * n_estimators : 100\n",
      "\t * max_depth : 6\n",
      "\t * n_jobs : -1\n",
      "\n",
      "Training\n",
      "========\n",
      "Training for binary problems.\n",
      "Objective to optimize binary classification pipeline thresholds for: <evalml.objectives.standard_metrics.AccuracyBinary object at 0x7f7f209566d0>\n",
      "Total training time (including CV): 1.3 seconds\n",
      "\n",
      "Cross Validation\n",
      "----------------\n",
      "             Accuracy Binary   AUC  Precision # Training # Validation\n",
      "0                      0.790 0.870      0.857        161           81\n",
      "1                      0.765 0.889      0.800        161           81\n",
      "2                      0.775 0.862      0.950        162           80\n",
      "mean                   0.777 0.874      0.869          -            -\n",
      "std                    0.012 0.014      0.076          -            -\n",
      "coef of var            0.016 0.016      0.087          -            -\n"
     ]
    }
   ],
   "source": [
    "automl_auc.describe_pipeline(automl_auc.rankings.iloc[0]['id'])"
   ]
  },
  {
   "cell_type": "code",
   "execution_count": 149,
   "id": "b422e153",
   "metadata": {},
   "outputs": [
    {
     "data": {
      "text/plain": [
       "(OrderedDict([('Accuracy Binary', 0.8032786885245902)]),\n",
       " OrderedDict([('AUC', 0.880952380952381)]))"
      ]
     },
     "execution_count": 149,
     "metadata": {},
     "output_type": "execute_result"
    }
   ],
   "source": [
    "bestpipeline.score(X_test,y_test, objectives=['accuracy binary']), bestpipeline.score(X_test,y_test, objectives = ['AUC'])"
   ]
  },
  {
   "cell_type": "code",
   "execution_count": 1090,
   "id": "5e9c17ee",
   "metadata": {},
   "outputs": [],
   "source": [
    "#bestpipeline.save('heartmodel.pkl')"
   ]
  },
  {
   "cell_type": "code",
   "execution_count": 452,
   "id": "8963b452",
   "metadata": {},
   "outputs": [],
   "source": [
    "#model_load = automl.load('heartmodel.pkl')"
   ]
  },
  {
   "cell_type": "markdown",
   "id": "95b971a2",
   "metadata": {},
   "source": [
    "## Now we decide the winner!!!"
   ]
  },
  {
   "cell_type": "code",
   "execution_count": 167,
   "id": "44a52f4f",
   "metadata": {},
   "outputs": [
    {
     "name": "stdout",
     "output_type": "stream",
     "text": [
      " Auto ML Precision 80.33 vs Logistic regression precision 85.71\n",
      " Auto ML AUC 88.10 vs Logistic regression AUC 85.52\n"
     ]
    }
   ],
   "source": [
    "print(f\" Auto ML Precision {bestpipeline.score(X_test,y_test, objectives=['accuracy binary'])['Accuracy Binary']*100:.2f} vs Logistic regression precision {lr_acc_score*100:.2f}\")\n",
    "print(f\" Auto ML AUC {bestpipeline.score(X_test,y_test, objectives=['auc'])['AUC']*100:.2f} vs Logistic regression AUC {lgr_auc*100:.2f}\")"
   ]
  },
  {
   "cell_type": "markdown",
   "id": "7725c952",
   "metadata": {},
   "source": [
    "Well considering how fast and easy Auto ML was to implement with almost the same levels of performance. \n",
    "#### My winner is Auto ML! \n",
    "Yes we can go over how the data is \"simple\" but the point was to prove the efficency and ease of using Auto ML to traditional methods. With Auto ML you do not have to sift through models. Everything is convinient. I hope that brings this fight to an end. Auto ML wins by KO.<br> \n",
    "Feel free to share your opinions.<br>\n",
    "That makes it Humans 0 - 1 Robots<br>\n",
    "Thank you for your time "
   ]
  },
  {
   "cell_type": "code",
   "execution_count": null,
   "id": "9f8390f1",
   "metadata": {},
   "outputs": [],
   "source": []
  }
 ],
 "metadata": {
  "kernelspec": {
   "display_name": "Python 3 (ipykernel)",
   "language": "python",
   "name": "python3"
  },
  "language_info": {
   "codemirror_mode": {
    "name": "ipython",
    "version": 3
   },
   "file_extension": ".py",
   "mimetype": "text/x-python",
   "name": "python",
   "nbconvert_exporter": "python",
   "pygments_lexer": "ipython3",
   "version": "3.8.8"
  }
 },
 "nbformat": 4,
 "nbformat_minor": 5
}
